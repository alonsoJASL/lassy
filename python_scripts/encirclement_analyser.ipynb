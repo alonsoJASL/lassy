{
 "cells": [
  {
   "cell_type": "code",
   "execution_count": 1,
   "metadata": {},
   "outputs": [],
   "source": [
    "import pandas as pd\n",
    "import matplotlib.pyplot as plt\n",
    "import seaborn as sns\n",
    "import numpy as np\n",
    "from scipy.stats import norm\n",
    "from sklearn.preprocessing import StandardScaler\n",
    "from scipy import stats\n",
    "from mpl_toolkits.mplot3d import Axes3D\n",
    "from sklearn.model_selection import train_test_split\n",
    "import warnings\n",
    "import math\n",
    "\n",
    "\n",
    "warnings.filterwarnings('ignore')\n",
    "%matplotlib inline\n"
   ]
  },
  {
   "cell_type": "code",
   "execution_count": 73,
   "metadata": {},
   "outputs": [],
   "source": [
    "df_data = pd.read_csv('./data/encirclement/AW_LPV_lassy.csv')"
   ]
  },
  {
   "cell_type": "code",
   "execution_count": null,
   "metadata": {
    "collapsed": true
   },
   "outputs": [],
   "source": []
  },
  {
   "cell_type": "code",
   "execution_count": null,
   "metadata": {
    "collapsed": true
   },
   "outputs": [],
   "source": []
  },
  {
   "cell_type": "code",
   "execution_count": null,
   "metadata": {
    "collapsed": true
   },
   "outputs": [],
   "source": []
  },
  {
   "cell_type": "code",
   "execution_count": 74,
   "metadata": {},
   "outputs": [
    {
     "data": {
      "text/html": [
       "<div>\n",
       "<style>\n",
       "    .dataframe thead tr:only-child th {\n",
       "        text-align: right;\n",
       "    }\n",
       "\n",
       "    .dataframe thead th {\n",
       "        text-align: left;\n",
       "    }\n",
       "\n",
       "    .dataframe tbody tr th {\n",
       "        vertical-align: top;\n",
       "    }\n",
       "</style>\n",
       "<table border=\"1\" class=\"dataframe\">\n",
       "  <thead>\n",
       "    <tr style=\"text-align: right;\">\n",
       "      <th></th>\n",
       "      <th>MainVertexSeq</th>\n",
       "      <th>VertexID</th>\n",
       "      <th>X</th>\n",
       "      <th>Y</th>\n",
       "      <th>Z</th>\n",
       "      <th>VertexDepth</th>\n",
       "      <th>MeshScalar</th>\n",
       "    </tr>\n",
       "  </thead>\n",
       "  <tbody>\n",
       "    <tr>\n",
       "      <th>count</th>\n",
       "      <td>2063.000000</td>\n",
       "      <td>2063.000000</td>\n",
       "      <td>2063.000000</td>\n",
       "      <td>2063.000000</td>\n",
       "      <td>2063.000000</td>\n",
       "      <td>2063.000000</td>\n",
       "      <td>2063.000000</td>\n",
       "    </tr>\n",
       "    <tr>\n",
       "      <th>mean</th>\n",
       "      <td>61.252545</td>\n",
       "      <td>15695.126515</td>\n",
       "      <td>12.690110</td>\n",
       "      <td>-1.496370</td>\n",
       "      <td>18.845620</td>\n",
       "      <td>1.226369</td>\n",
       "      <td>135.425594</td>\n",
       "    </tr>\n",
       "    <tr>\n",
       "      <th>std</th>\n",
       "      <td>35.339132</td>\n",
       "      <td>3422.701803</td>\n",
       "      <td>6.015215</td>\n",
       "      <td>6.775008</td>\n",
       "      <td>8.155905</td>\n",
       "      <td>0.643284</td>\n",
       "      <td>11.585559</td>\n",
       "    </tr>\n",
       "    <tr>\n",
       "      <th>min</th>\n",
       "      <td>0.000000</td>\n",
       "      <td>10281.000000</td>\n",
       "      <td>3.254010</td>\n",
       "      <td>-12.881600</td>\n",
       "      <td>4.719330</td>\n",
       "      <td>0.000000</td>\n",
       "      <td>98.000000</td>\n",
       "    </tr>\n",
       "    <tr>\n",
       "      <th>25%</th>\n",
       "      <td>31.000000</td>\n",
       "      <td>12201.000000</td>\n",
       "      <td>7.616720</td>\n",
       "      <td>-7.742730</td>\n",
       "      <td>10.472900</td>\n",
       "      <td>1.000000</td>\n",
       "      <td>128.000000</td>\n",
       "    </tr>\n",
       "    <tr>\n",
       "      <th>50%</th>\n",
       "      <td>61.000000</td>\n",
       "      <td>15636.000000</td>\n",
       "      <td>11.145400</td>\n",
       "      <td>-2.274370</td>\n",
       "      <td>19.328900</td>\n",
       "      <td>1.000000</td>\n",
       "      <td>135.000000</td>\n",
       "    </tr>\n",
       "    <tr>\n",
       "      <th>75%</th>\n",
       "      <td>92.000000</td>\n",
       "      <td>18515.000000</td>\n",
       "      <td>17.659850</td>\n",
       "      <td>4.791815</td>\n",
       "      <td>25.316300</td>\n",
       "      <td>1.000000</td>\n",
       "      <td>145.000000</td>\n",
       "    </tr>\n",
       "    <tr>\n",
       "      <th>max</th>\n",
       "      <td>122.000000</td>\n",
       "      <td>21983.000000</td>\n",
       "      <td>24.778000</td>\n",
       "      <td>9.725260</td>\n",
       "      <td>32.630200</td>\n",
       "      <td>3.000000</td>\n",
       "      <td>167.000000</td>\n",
       "    </tr>\n",
       "  </tbody>\n",
       "</table>\n",
       "</div>"
      ],
      "text/plain": [
       "       MainVertexSeq      VertexID            X            Y            Z  \\\n",
       "count    2063.000000   2063.000000  2063.000000  2063.000000  2063.000000   \n",
       "mean       61.252545  15695.126515    12.690110    -1.496370    18.845620   \n",
       "std        35.339132   3422.701803     6.015215     6.775008     8.155905   \n",
       "min         0.000000  10281.000000     3.254010   -12.881600     4.719330   \n",
       "25%        31.000000  12201.000000     7.616720    -7.742730    10.472900   \n",
       "50%        61.000000  15636.000000    11.145400    -2.274370    19.328900   \n",
       "75%        92.000000  18515.000000    17.659850     4.791815    25.316300   \n",
       "max       122.000000  21983.000000    24.778000     9.725260    32.630200   \n",
       "\n",
       "       VertexDepth   MeshScalar  \n",
       "count  2063.000000  2063.000000  \n",
       "mean      1.226369   135.425594  \n",
       "std       0.643284    11.585559  \n",
       "min       0.000000    98.000000  \n",
       "25%       1.000000   128.000000  \n",
       "50%       1.000000   135.000000  \n",
       "75%       1.000000   145.000000  \n",
       "max       3.000000   167.000000  "
      ]
     },
     "execution_count": 74,
     "metadata": {},
     "output_type": "execute_result"
    }
   ],
   "source": [
    "df_data.describe()"
   ]
  },
  {
   "cell_type": "code",
   "execution_count": 75,
   "metadata": {},
   "outputs": [
    {
     "data": {
      "image/png": "[encoded data removed]",
      "text/plain": [
       "<matplotlib.figure.Figure at 0x12bdd390>"
      ]
     },
     "metadata": {},
     "output_type": "display_data"
    }
   ],
   "source": [
    "fig = plt.figure()\n",
    "ax = Axes3D(fig)\n",
    "ax.scatter(df_data['X'], df_data['Y'], df_data['Z'])\n",
    "plt.show()"
   ]
  },
  {
   "cell_type": "code",
   "execution_count": 76,
   "metadata": {
    "collapsed": true
   },
   "outputs": [],
   "source": [
    "df_data_scalars = pd.concat([df_data['MainVertexSeq'], df_data['MeshScalar']], axis=1)"
   ]
  },
  {
   "cell_type": "code",
   "execution_count": 77,
   "metadata": {},
   "outputs": [
    {
     "data": {
      "image/png": "[encoded data removed]",
      "text/plain": [
       "<matplotlib.figure.Figure at 0xb852198>"
      ]
     },
     "metadata": {},
     "output_type": "display_data"
    }
   ],
   "source": [
    "ax = sns.boxplot(x=\"MainVertexSeq\", y=\"MeshScalar\", data=df_data_scalars)"
   ]
  },
  {
   "cell_type": "code",
   "execution_count": 78,
   "metadata": {
    "collapsed": true
   },
   "outputs": [],
   "source": [
    "g1 = df_data.groupby(['MainVertexSeq']).median()\n",
    "g1 = g1.reset_index()"
   ]
  },
  {
   "cell_type": "code",
   "execution_count": 79,
   "metadata": {},
   "outputs": [
    {
     "data": {
      "text/html": [
       "<div>\n",
       "<style>\n",
       "    .dataframe thead tr:only-child th {\n",
       "        text-align: right;\n",
       "    }\n",
       "\n",
       "    .dataframe thead th {\n",
       "        text-align: left;\n",
       "    }\n",
       "\n",
       "    .dataframe tbody tr th {\n",
       "        vertical-align: top;\n",
       "    }\n",
       "</style>\n",
       "<table border=\"1\" class=\"dataframe\">\n",
       "  <thead>\n",
       "    <tr style=\"text-align: right;\">\n",
       "      <th></th>\n",
       "      <th>MainVertexSeq</th>\n",
       "      <th>VertexID</th>\n",
       "      <th>X</th>\n",
       "      <th>Y</th>\n",
       "      <th>Z</th>\n",
       "      <th>VertexDepth</th>\n",
       "      <th>MeshScalar</th>\n",
       "    </tr>\n",
       "  </thead>\n",
       "  <tbody>\n",
       "    <tr>\n",
       "      <th>0</th>\n",
       "      <td>0</td>\n",
       "      <td>10891.0</td>\n",
       "      <td>14.0719</td>\n",
       "      <td>5.42438</td>\n",
       "      <td>6.64452</td>\n",
       "      <td>1.0</td>\n",
       "      <td>137.0</td>\n",
       "    </tr>\n",
       "    <tr>\n",
       "      <th>1</th>\n",
       "      <td>1</td>\n",
       "      <td>10891.0</td>\n",
       "      <td>14.6669</td>\n",
       "      <td>4.77617</td>\n",
       "      <td>6.66704</td>\n",
       "      <td>1.0</td>\n",
       "      <td>147.0</td>\n",
       "    </tr>\n",
       "  </tbody>\n",
       "</table>\n",
       "</div>"
      ],
      "text/plain": [
       "   MainVertexSeq  VertexID        X        Y        Z  VertexDepth  MeshScalar\n",
       "0              0   10891.0  14.0719  5.42438  6.64452          1.0       137.0\n",
       "1              1   10891.0  14.6669  4.77617  6.66704          1.0       147.0"
      ]
     },
     "execution_count": 79,
     "metadata": {},
     "output_type": "execute_result"
    }
   ],
   "source": [
    "g1.head(2)"
   ]
  },
  {
   "cell_type": "code",
   "execution_count": 80,
   "metadata": {},
   "outputs": [
    {
     "data": {
      "image/png": "[encoded data removed]",
      "text/plain": [
       "<matplotlib.figure.Figure at 0x13f12dd8>"
      ]
     },
     "metadata": {},
     "output_type": "display_data"
    }
   ],
   "source": [
    "ax = sns.tsplot(data=g1['MeshScalar'])"
   ]
  },
  {
   "cell_type": "code",
   "execution_count": 81,
   "metadata": {
    "collapsed": true
   },
   "outputs": [],
   "source": [
    "center_data = [df_data['X'].mean(), df_data['Y'].mean(), df_data['Z'].mean()]"
   ]
  },
  {
   "cell_type": "code",
   "execution_count": 82,
   "metadata": {},
   "outputs": [
    {
     "data": {
      "text/plain": [
       "[12.690109578284051, -1.4963700866214253, 18.845619772176445]"
      ]
     },
     "execution_count": 82,
     "metadata": {},
     "output_type": "execute_result"
    }
   ],
   "source": [
    "center_data"
   ]
  },
  {
   "cell_type": "code",
   "execution_count": 83,
   "metadata": {
    "collapsed": true
   },
   "outputs": [],
   "source": [
    "df_data_scalars = pd.concat([df_data['MainVertexSeq'], df_data['MeshScalar']], axis=1)"
   ]
  },
  {
   "cell_type": "code",
   "execution_count": 84,
   "metadata": {
    "collapsed": true
   },
   "outputs": [],
   "source": [
    "g1 = df_data.groupby(['MainVertexSeq']).median()\n",
    "g1 = g1.reset_index()"
   ]
  },
  {
   "cell_type": "code",
   "execution_count": 85,
   "metadata": {},
   "outputs": [
    {
     "data": {
      "image/png": "[encoded data removed]",
      "text/plain": [
       "<matplotlib.figure.Figure at 0x126d3a20>"
      ]
     },
     "metadata": {},
     "output_type": "display_data"
    }
   ],
   "source": [
    "ax = sns.tsplot(data=g1['MeshScalar'])"
   ]
  },
  {
   "cell_type": "code",
   "execution_count": 86,
   "metadata": {
    "collapsed": true
   },
   "outputs": [],
   "source": [
    "def unit_vector(vector):\n",
    "    \"\"\" Returns the unit vector of the vector.  \"\"\"\n",
    "    return vector / np.linalg.norm(vector)\n",
    "\n",
    "def angle_between(v1, v2):\n",
    "    \"\"\" Returns the angle in radians between vectors 'v1' and 'v2'::\n",
    "\n",
    "            >>> angle_between((1, 0, 0), (0, 1, 0))\n",
    "            1.5707963267948966\n",
    "            >>> angle_between((1, 0, 0), (1, 0, 0))\n",
    "            0.0\n",
    "            >>> angle_between((1, 0, 0), (-1, 0, 0))\n",
    "            3.141592653589793\n",
    "    \"\"\"\n",
    "    v1_u = unit_vector(v1)\n",
    "    v2_u = unit_vector(v2)\n",
    "    return np.arccos(np.clip(np.dot(v1_u, v2_u), -1.0, 1.0))"
   ]
  },
  {
   "cell_type": "code",
   "execution_count": 87,
   "metadata": {
    "collapsed": true
   },
   "outputs": [],
   "source": [
    "def point_theta(center, A):\n",
    "    thetas = []; \n",
    "    Ref_pt = [A.iloc[0]['X'], A.iloc[0]['Y'], A.iloc[0]['Z']] \n",
    "    for index, row in A.iterrows():\n",
    "        pt = [row['X'], row['Y'], row['Z']]\n",
    "        theta = angle_between(Ref_pt, pt)\n",
    "        thetas.append(theta)\n",
    "    return thetas\n"
   ]
  },
  {
   "cell_type": "code",
   "execution_count": 88,
   "metadata": {
    "collapsed": true
   },
   "outputs": [],
   "source": [
    "thetas = point_theta(center_data, df_data)"
   ]
  },
  {
   "cell_type": "code",
   "execution_count": 89,
   "metadata": {
    "collapsed": true
   },
   "outputs": [],
   "source": [
    "thetas_df = pd.Series(thetas, name='theta');"
   ]
  },
  {
   "cell_type": "code",
   "execution_count": 90,
   "metadata": {
    "collapsed": true
   },
   "outputs": [],
   "source": [
    "df_data_with_theta = pd.concat([df_data, thetas_df], axis=1)"
   ]
  },
  {
   "cell_type": "code",
   "execution_count": 91,
   "metadata": {},
   "outputs": [
    {
     "data": {
      "text/plain": [
       "<matplotlib.axes._subplots.AxesSubplot at 0x14137208>"
      ]
     },
     "execution_count": 91,
     "metadata": {},
     "output_type": "execute_result"
    },
    {
     "data": {
      "image/png": "[encoded data removed]",
      "text/plain": [
       "<matplotlib.figure.Figure at 0x1413e358>"
      ]
     },
     "metadata": {},
     "output_type": "display_data"
    }
   ],
   "source": [
    "sns.tsplot(df_data_with_theta['theta'])"
   ]
  },
  {
   "cell_type": "code",
   "execution_count": 92,
   "metadata": {
    "collapsed": true
   },
   "outputs": [],
   "source": [
    "df_data_with_thetas_sorted = df_data_with_theta.sort_values(by='theta')"
   ]
  },
  {
   "cell_type": "code",
   "execution_count": 93,
   "metadata": {},
   "outputs": [
    {
     "data": {
      "text/html": [
       "<div>\n",
       "<style>\n",
       "    .dataframe thead tr:only-child th {\n",
       "        text-align: right;\n",
       "    }\n",
       "\n",
       "    .dataframe thead th {\n",
       "        text-align: left;\n",
       "    }\n",
       "\n",
       "    .dataframe tbody tr th {\n",
       "        vertical-align: top;\n",
       "    }\n",
       "</style>\n",
       "<table border=\"1\" class=\"dataframe\">\n",
       "  <thead>\n",
       "    <tr style=\"text-align: right;\">\n",
       "      <th></th>\n",
       "      <th>MainVertexSeq</th>\n",
       "      <th>VertexID</th>\n",
       "      <th>X</th>\n",
       "      <th>Y</th>\n",
       "      <th>Z</th>\n",
       "      <th>VertexDepth</th>\n",
       "      <th>MeshScalar</th>\n",
       "      <th>theta</th>\n",
       "    </tr>\n",
       "  </thead>\n",
       "  <tbody>\n",
       "    <tr>\n",
       "      <th>0</th>\n",
       "      <td>0</td>\n",
       "      <td>10891</td>\n",
       "      <td>14.0276</td>\n",
       "      <td>5.47094</td>\n",
       "      <td>6.64452</td>\n",
       "      <td>0</td>\n",
       "      <td>129</td>\n",
       "      <td>0.000000</td>\n",
       "    </tr>\n",
       "    <tr>\n",
       "      <th>19</th>\n",
       "      <td>1</td>\n",
       "      <td>10891</td>\n",
       "      <td>14.0276</td>\n",
       "      <td>5.47094</td>\n",
       "      <td>6.64452</td>\n",
       "      <td>2</td>\n",
       "      <td>129</td>\n",
       "      <td>0.000000</td>\n",
       "    </tr>\n",
       "    <tr>\n",
       "      <th>151</th>\n",
       "      <td>9</td>\n",
       "      <td>10891</td>\n",
       "      <td>14.0276</td>\n",
       "      <td>5.47094</td>\n",
       "      <td>6.64452</td>\n",
       "      <td>1</td>\n",
       "      <td>129</td>\n",
       "      <td>0.000000</td>\n",
       "    </tr>\n",
       "    <tr>\n",
       "      <th>73</th>\n",
       "      <td>4</td>\n",
       "      <td>10891</td>\n",
       "      <td>14.0276</td>\n",
       "      <td>5.47094</td>\n",
       "      <td>6.64452</td>\n",
       "      <td>1</td>\n",
       "      <td>129</td>\n",
       "      <td>0.000000</td>\n",
       "    </tr>\n",
       "    <tr>\n",
       "      <th>1</th>\n",
       "      <td>0</td>\n",
       "      <td>10891</td>\n",
       "      <td>14.0276</td>\n",
       "      <td>5.47094</td>\n",
       "      <td>6.64452</td>\n",
       "      <td>3</td>\n",
       "      <td>129</td>\n",
       "      <td>0.000000</td>\n",
       "    </tr>\n",
       "    <tr>\n",
       "      <th>63</th>\n",
       "      <td>4</td>\n",
       "      <td>10897</td>\n",
       "      <td>13.3487</td>\n",
       "      <td>6.04894</td>\n",
       "      <td>6.66704</td>\n",
       "      <td>3</td>\n",
       "      <td>129</td>\n",
       "      <td>0.050213</td>\n",
       "    </tr>\n",
       "    <tr>\n",
       "      <th>55</th>\n",
       "      <td>3</td>\n",
       "      <td>10897</td>\n",
       "      <td>13.3487</td>\n",
       "      <td>6.04894</td>\n",
       "      <td>6.66704</td>\n",
       "      <td>1</td>\n",
       "      <td>129</td>\n",
       "      <td>0.050213</td>\n",
       "    </tr>\n",
       "    <tr>\n",
       "      <th>62</th>\n",
       "      <td>4</td>\n",
       "      <td>10897</td>\n",
       "      <td>13.3487</td>\n",
       "      <td>6.04894</td>\n",
       "      <td>6.66704</td>\n",
       "      <td>0</td>\n",
       "      <td>129</td>\n",
       "      <td>0.050213</td>\n",
       "    </tr>\n",
       "    <tr>\n",
       "      <th>23</th>\n",
       "      <td>1</td>\n",
       "      <td>10897</td>\n",
       "      <td>13.3487</td>\n",
       "      <td>6.04894</td>\n",
       "      <td>6.66704</td>\n",
       "      <td>1</td>\n",
       "      <td>129</td>\n",
       "      <td>0.050213</td>\n",
       "    </tr>\n",
       "    <tr>\n",
       "      <th>11</th>\n",
       "      <td>0</td>\n",
       "      <td>10897</td>\n",
       "      <td>13.3487</td>\n",
       "      <td>6.04894</td>\n",
       "      <td>6.66704</td>\n",
       "      <td>1</td>\n",
       "      <td>129</td>\n",
       "      <td>0.050213</td>\n",
       "    </tr>\n",
       "  </tbody>\n",
       "</table>\n",
       "</div>"
      ],
      "text/plain": [
       "     MainVertexSeq  VertexID        X        Y        Z  VertexDepth  \\\n",
       "0                0     10891  14.0276  5.47094  6.64452            0   \n",
       "19               1     10891  14.0276  5.47094  6.64452            2   \n",
       "151              9     10891  14.0276  5.47094  6.64452            1   \n",
       "73               4     10891  14.0276  5.47094  6.64452            1   \n",
       "1                0     10891  14.0276  5.47094  6.64452            3   \n",
       "63               4     10897  13.3487  6.04894  6.66704            3   \n",
       "55               3     10897  13.3487  6.04894  6.66704            1   \n",
       "62               4     10897  13.3487  6.04894  6.66704            0   \n",
       "23               1     10897  13.3487  6.04894  6.66704            1   \n",
       "11               0     10897  13.3487  6.04894  6.66704            1   \n",
       "\n",
       "     MeshScalar     theta  \n",
       "0           129  0.000000  \n",
       "19          129  0.000000  \n",
       "151         129  0.000000  \n",
       "73          129  0.000000  \n",
       "1           129  0.000000  \n",
       "63          129  0.050213  \n",
       "55          129  0.050213  \n",
       "62          129  0.050213  \n",
       "23          129  0.050213  \n",
       "11          129  0.050213  "
      ]
     },
     "execution_count": 93,
     "metadata": {},
     "output_type": "execute_result"
    }
   ],
   "source": [
    "df_data_with_thetas_sorted.head(10)"
   ]
  },
  {
   "cell_type": "code",
   "execution_count": 94,
   "metadata": {},
   "outputs": [
    {
     "data": {
      "text/plain": [
       "<matplotlib.axes._subplots.AxesSubplot at 0x141655f8>"
      ]
     },
     "execution_count": 94,
     "metadata": {},
     "output_type": "execute_result"
    },
    {
     "data": {
      "image/png": "[encoded data removed]",
      "text/plain": [
       "<matplotlib.figure.Figure at 0x141057f0>"
      ]
     },
     "metadata": {},
     "output_type": "display_data"
    }
   ],
   "source": [
    "sns.tsplot(df_data_with_thetas_sorted['theta'])"
   ]
  },
  {
   "cell_type": "code",
   "execution_count": 95,
   "metadata": {},
   "outputs": [
    {
     "data": {
      "text/plain": [
       "<matplotlib.axes._subplots.AxesSubplot at 0x141ab438>"
      ]
     },
     "execution_count": 95,
     "metadata": {},
     "output_type": "execute_result"
    },
    {
     "data": {
      "image/png": "[encoded data removed]",
      "text/plain": [
       "<matplotlib.figure.Figure at 0xcbd7908>"
      ]
     },
     "metadata": {},
     "output_type": "display_data"
    }
   ],
   "source": [
    "sns.tsplot(df_data_with_thetas_sorted['MeshScalar'])"
   ]
  },
  {
   "cell_type": "code",
   "execution_count": null,
   "metadata": {
    "collapsed": true
   },
   "outputs": [],
   "source": []
  },
  {
   "cell_type": "code",
   "execution_count": 96,
   "metadata": {},
   "outputs": [
    {
     "data": {
      "text/html": [
       "<div>\n",
       "<style>\n",
       "    .dataframe thead tr:only-child th {\n",
       "        text-align: right;\n",
       "    }\n",
       "\n",
       "    .dataframe thead th {\n",
       "        text-align: left;\n",
       "    }\n",
       "\n",
       "    .dataframe tbody tr th {\n",
       "        vertical-align: top;\n",
       "    }\n",
       "</style>\n",
       "<table border=\"1\" class=\"dataframe\">\n",
       "  <thead>\n",
       "    <tr style=\"text-align: right;\">\n",
       "      <th></th>\n",
       "      <th>MainVertexSeq</th>\n",
       "      <th>VertexID</th>\n",
       "      <th>X</th>\n",
       "      <th>Y</th>\n",
       "      <th>Z</th>\n",
       "      <th>VertexDepth</th>\n",
       "      <th>MeshScalar</th>\n",
       "      <th>theta</th>\n",
       "    </tr>\n",
       "  </thead>\n",
       "  <tbody>\n",
       "    <tr>\n",
       "      <th>0</th>\n",
       "      <td>0</td>\n",
       "      <td>10891</td>\n",
       "      <td>14.0276</td>\n",
       "      <td>5.47094</td>\n",
       "      <td>6.64452</td>\n",
       "      <td>0</td>\n",
       "      <td>129</td>\n",
       "      <td>0.000000</td>\n",
       "    </tr>\n",
       "    <tr>\n",
       "      <th>19</th>\n",
       "      <td>1</td>\n",
       "      <td>10891</td>\n",
       "      <td>14.0276</td>\n",
       "      <td>5.47094</td>\n",
       "      <td>6.64452</td>\n",
       "      <td>2</td>\n",
       "      <td>129</td>\n",
       "      <td>0.000000</td>\n",
       "    </tr>\n",
       "    <tr>\n",
       "      <th>151</th>\n",
       "      <td>9</td>\n",
       "      <td>10891</td>\n",
       "      <td>14.0276</td>\n",
       "      <td>5.47094</td>\n",
       "      <td>6.64452</td>\n",
       "      <td>1</td>\n",
       "      <td>129</td>\n",
       "      <td>0.000000</td>\n",
       "    </tr>\n",
       "    <tr>\n",
       "      <th>73</th>\n",
       "      <td>4</td>\n",
       "      <td>10891</td>\n",
       "      <td>14.0276</td>\n",
       "      <td>5.47094</td>\n",
       "      <td>6.64452</td>\n",
       "      <td>1</td>\n",
       "      <td>129</td>\n",
       "      <td>0.000000</td>\n",
       "    </tr>\n",
       "    <tr>\n",
       "      <th>1</th>\n",
       "      <td>0</td>\n",
       "      <td>10891</td>\n",
       "      <td>14.0276</td>\n",
       "      <td>5.47094</td>\n",
       "      <td>6.64452</td>\n",
       "      <td>3</td>\n",
       "      <td>129</td>\n",
       "      <td>0.000000</td>\n",
       "    </tr>\n",
       "    <tr>\n",
       "      <th>63</th>\n",
       "      <td>4</td>\n",
       "      <td>10897</td>\n",
       "      <td>13.3487</td>\n",
       "      <td>6.04894</td>\n",
       "      <td>6.66704</td>\n",
       "      <td>3</td>\n",
       "      <td>129</td>\n",
       "      <td>0.050213</td>\n",
       "    </tr>\n",
       "    <tr>\n",
       "      <th>55</th>\n",
       "      <td>3</td>\n",
       "      <td>10897</td>\n",
       "      <td>13.3487</td>\n",
       "      <td>6.04894</td>\n",
       "      <td>6.66704</td>\n",
       "      <td>1</td>\n",
       "      <td>129</td>\n",
       "      <td>0.050213</td>\n",
       "    </tr>\n",
       "    <tr>\n",
       "      <th>62</th>\n",
       "      <td>4</td>\n",
       "      <td>10897</td>\n",
       "      <td>13.3487</td>\n",
       "      <td>6.04894</td>\n",
       "      <td>6.66704</td>\n",
       "      <td>0</td>\n",
       "      <td>129</td>\n",
       "      <td>0.050213</td>\n",
       "    </tr>\n",
       "    <tr>\n",
       "      <th>23</th>\n",
       "      <td>1</td>\n",
       "      <td>10897</td>\n",
       "      <td>13.3487</td>\n",
       "      <td>6.04894</td>\n",
       "      <td>6.66704</td>\n",
       "      <td>1</td>\n",
       "      <td>129</td>\n",
       "      <td>0.050213</td>\n",
       "    </tr>\n",
       "    <tr>\n",
       "      <th>11</th>\n",
       "      <td>0</td>\n",
       "      <td>10897</td>\n",
       "      <td>13.3487</td>\n",
       "      <td>6.04894</td>\n",
       "      <td>6.66704</td>\n",
       "      <td>1</td>\n",
       "      <td>129</td>\n",
       "      <td>0.050213</td>\n",
       "    </tr>\n",
       "    <tr>\n",
       "      <th>45</th>\n",
       "      <td>2</td>\n",
       "      <td>10897</td>\n",
       "      <td>13.3487</td>\n",
       "      <td>6.04894</td>\n",
       "      <td>6.66704</td>\n",
       "      <td>1</td>\n",
       "      <td>129</td>\n",
       "      <td>0.050213</td>\n",
       "    </tr>\n",
       "    <tr>\n",
       "      <th>91</th>\n",
       "      <td>5</td>\n",
       "      <td>10897</td>\n",
       "      <td>13.3487</td>\n",
       "      <td>6.04894</td>\n",
       "      <td>6.66704</td>\n",
       "      <td>1</td>\n",
       "      <td>129</td>\n",
       "      <td>0.050213</td>\n",
       "    </tr>\n",
       "    <tr>\n",
       "      <th>138</th>\n",
       "      <td>8</td>\n",
       "      <td>10892</td>\n",
       "      <td>14.6669</td>\n",
       "      <td>4.77617</td>\n",
       "      <td>6.89592</td>\n",
       "      <td>1</td>\n",
       "      <td>150</td>\n",
       "      <td>0.052362</td>\n",
       "    </tr>\n",
       "    <tr>\n",
       "      <th>6</th>\n",
       "      <td>0</td>\n",
       "      <td>10892</td>\n",
       "      <td>14.6669</td>\n",
       "      <td>4.77617</td>\n",
       "      <td>6.89592</td>\n",
       "      <td>1</td>\n",
       "      <td>150</td>\n",
       "      <td>0.052362</td>\n",
       "    </tr>\n",
       "    <tr>\n",
       "      <th>17</th>\n",
       "      <td>1</td>\n",
       "      <td>10892</td>\n",
       "      <td>14.6669</td>\n",
       "      <td>4.77617</td>\n",
       "      <td>6.89592</td>\n",
       "      <td>0</td>\n",
       "      <td>150</td>\n",
       "      <td>0.052362</td>\n",
       "    </tr>\n",
       "  </tbody>\n",
       "</table>\n",
       "</div>"
      ],
      "text/plain": [
       "     MainVertexSeq  VertexID        X        Y        Z  VertexDepth  \\\n",
       "0                0     10891  14.0276  5.47094  6.64452            0   \n",
       "19               1     10891  14.0276  5.47094  6.64452            2   \n",
       "151              9     10891  14.0276  5.47094  6.64452            1   \n",
       "73               4     10891  14.0276  5.47094  6.64452            1   \n",
       "1                0     10891  14.0276  5.47094  6.64452            3   \n",
       "63               4     10897  13.3487  6.04894  6.66704            3   \n",
       "55               3     10897  13.3487  6.04894  6.66704            1   \n",
       "62               4     10897  13.3487  6.04894  6.66704            0   \n",
       "23               1     10897  13.3487  6.04894  6.66704            1   \n",
       "11               0     10897  13.3487  6.04894  6.66704            1   \n",
       "45               2     10897  13.3487  6.04894  6.66704            1   \n",
       "91               5     10897  13.3487  6.04894  6.66704            1   \n",
       "138              8     10892  14.6669  4.77617  6.89592            1   \n",
       "6                0     10892  14.6669  4.77617  6.89592            1   \n",
       "17               1     10892  14.6669  4.77617  6.89592            0   \n",
       "\n",
       "     MeshScalar     theta  \n",
       "0           129  0.000000  \n",
       "19          129  0.000000  \n",
       "151         129  0.000000  \n",
       "73          129  0.000000  \n",
       "1           129  0.000000  \n",
       "63          129  0.050213  \n",
       "55          129  0.050213  \n",
       "62          129  0.050213  \n",
       "23          129  0.050213  \n",
       "11          129  0.050213  \n",
       "45          129  0.050213  \n",
       "91          129  0.050213  \n",
       "138         150  0.052362  \n",
       "6           150  0.052362  \n",
       "17          150  0.052362  "
      ]
     },
     "execution_count": 96,
     "metadata": {},
     "output_type": "execute_result"
    }
   ],
   "source": [
    "df_data_with_thetas_sorted.head(15)"
   ]
  },
  {
   "cell_type": "code",
   "execution_count": 97,
   "metadata": {},
   "outputs": [
    {
     "data": {
      "text/plain": [
       "11.585559271404732"
      ]
     },
     "execution_count": 97,
     "metadata": {},
     "output_type": "execute_result"
    }
   ],
   "source": [
    "df_data_with_thetas_sorted['MeshScalar'].std()"
   ]
  },
  {
   "cell_type": "code",
   "execution_count": null,
   "metadata": {
    "collapsed": true
   },
   "outputs": [],
   "source": []
  },
  {
   "cell_type": "code",
   "execution_count": null,
   "metadata": {
    "collapsed": true
   },
   "outputs": [],
   "source": []
  },
  {
   "cell_type": "code",
   "execution_count": null,
   "metadata": {
    "collapsed": true
   },
   "outputs": [],
   "source": []
  },
  {
   "cell_type": "code",
   "execution_count": 98,
   "metadata": {
    "collapsed": true
   },
   "outputs": [],
   "source": [
    "df_data_with_thetas_sorted_nodupes = df_data_with_thetas_sorted.drop_duplicates(subset='VertexID', keep='last');"
   ]
  },
  {
   "cell_type": "code",
   "execution_count": 99,
   "metadata": {},
   "outputs": [
    {
     "data": {
      "text/plain": [
       "<matplotlib.axes._subplots.AxesSubplot at 0x12cfe978>"
      ]
     },
     "execution_count": 99,
     "metadata": {},
     "output_type": "execute_result"
    },
    {
     "data": {
      "image/png": "[encoded data removed]",
      "text/plain": [
       "<matplotlib.figure.Figure at 0x12d56438>"
      ]
     },
     "metadata": {},
     "output_type": "display_data"
    }
   ],
   "source": [
    "sns.tsplot(pd.rolling_mean(df_data_with_thetas_sorted_nodupes['MeshScalar'],50))"
   ]
  },
  {
   "cell_type": "code",
   "execution_count": null,
   "metadata": {
    "collapsed": true
   },
   "outputs": [],
   "source": []
  },
  {
   "cell_type": "code",
   "execution_count": null,
   "metadata": {
    "collapsed": true
   },
   "outputs": [],
   "source": []
  },
  {
   "cell_type": "code",
   "execution_count": null,
   "metadata": {
    "collapsed": true
   },
   "outputs": [],
   "source": []
  },
  {
   "cell_type": "code",
   "execution_count": null,
   "metadata": {
    "collapsed": true
   },
   "outputs": [],
   "source": []
  },
  {
   "cell_type": "code",
   "execution_count": null,
   "metadata": {
    "collapsed": true
   },
   "outputs": [],
   "source": []
  },
  {
   "cell_type": "code",
   "execution_count": 100,
   "metadata": {},
   "outputs": [
    {
     "data": {
      "text/html": [
       "<div>\n",
       "<style>\n",
       "    .dataframe thead tr:only-child th {\n",
       "        text-align: right;\n",
       "    }\n",
       "\n",
       "    .dataframe thead th {\n",
       "        text-align: left;\n",
       "    }\n",
       "\n",
       "    .dataframe tbody tr th {\n",
       "        vertical-align: top;\n",
       "    }\n",
       "</style>\n",
       "<table border=\"1\" class=\"dataframe\">\n",
       "  <thead>\n",
       "    <tr style=\"text-align: right;\">\n",
       "      <th></th>\n",
       "      <th>MainVertexSeq</th>\n",
       "      <th>VertexID</th>\n",
       "      <th>X</th>\n",
       "      <th>Y</th>\n",
       "      <th>Z</th>\n",
       "      <th>VertexDepth</th>\n",
       "      <th>MeshScalar</th>\n",
       "      <th>theta</th>\n",
       "    </tr>\n",
       "  </thead>\n",
       "  <tbody>\n",
       "    <tr>\n",
       "      <th>count</th>\n",
       "      <td>614.000000</td>\n",
       "      <td>614.000000</td>\n",
       "      <td>614.000000</td>\n",
       "      <td>614.000000</td>\n",
       "      <td>614.000000</td>\n",
       "      <td>614.000000</td>\n",
       "      <td>614.000000</td>\n",
       "      <td>614.000000</td>\n",
       "    </tr>\n",
       "    <tr>\n",
       "      <th>mean</th>\n",
       "      <td>61.998371</td>\n",
       "      <td>15750.076547</td>\n",
       "      <td>12.553547</td>\n",
       "      <td>-1.346634</td>\n",
       "      <td>18.966125</td>\n",
       "      <td>1.192182</td>\n",
       "      <td>135.664495</td>\n",
       "      <td>0.689588</td>\n",
       "    </tr>\n",
       "    <tr>\n",
       "      <th>std</th>\n",
       "      <td>35.542108</td>\n",
       "      <td>3458.513581</td>\n",
       "      <td>6.019440</td>\n",
       "      <td>6.810610</td>\n",
       "      <td>8.241138</td>\n",
       "      <td>0.561579</td>\n",
       "      <td>11.827532</td>\n",
       "      <td>0.303376</td>\n",
       "    </tr>\n",
       "    <tr>\n",
       "      <th>min</th>\n",
       "      <td>0.000000</td>\n",
       "      <td>10281.000000</td>\n",
       "      <td>3.254010</td>\n",
       "      <td>-12.881600</td>\n",
       "      <td>4.719330</td>\n",
       "      <td>0.000000</td>\n",
       "      <td>98.000000</td>\n",
       "      <td>0.000000</td>\n",
       "    </tr>\n",
       "    <tr>\n",
       "      <th>25%</th>\n",
       "      <td>32.000000</td>\n",
       "      <td>12216.250000</td>\n",
       "      <td>7.539588</td>\n",
       "      <td>-7.706960</td>\n",
       "      <td>10.576650</td>\n",
       "      <td>1.000000</td>\n",
       "      <td>128.000000</td>\n",
       "      <td>0.468842</td>\n",
       "    </tr>\n",
       "    <tr>\n",
       "      <th>50%</th>\n",
       "      <td>61.000000</td>\n",
       "      <td>16047.500000</td>\n",
       "      <td>10.993850</td>\n",
       "      <td>-1.688120</td>\n",
       "      <td>19.411600</td>\n",
       "      <td>1.000000</td>\n",
       "      <td>135.000000</td>\n",
       "      <td>0.716772</td>\n",
       "    </tr>\n",
       "    <tr>\n",
       "      <th>75%</th>\n",
       "      <td>92.750000</td>\n",
       "      <td>18527.000000</td>\n",
       "      <td>17.593800</td>\n",
       "      <td>4.916430</td>\n",
       "      <td>25.759050</td>\n",
       "      <td>1.000000</td>\n",
       "      <td>145.000000</td>\n",
       "      <td>0.958867</td>\n",
       "    </tr>\n",
       "    <tr>\n",
       "      <th>max</th>\n",
       "      <td>122.000000</td>\n",
       "      <td>21983.000000</td>\n",
       "      <td>24.778000</td>\n",
       "      <td>9.725260</td>\n",
       "      <td>32.630200</td>\n",
       "      <td>3.000000</td>\n",
       "      <td>167.000000</td>\n",
       "      <td>1.172375</td>\n",
       "    </tr>\n",
       "  </tbody>\n",
       "</table>\n",
       "</div>"
      ],
      "text/plain": [
       "       MainVertexSeq      VertexID           X           Y           Z  \\\n",
       "count     614.000000    614.000000  614.000000  614.000000  614.000000   \n",
       "mean       61.998371  15750.076547   12.553547   -1.346634   18.966125   \n",
       "std        35.542108   3458.513581    6.019440    6.810610    8.241138   \n",
       "min         0.000000  10281.000000    3.254010  -12.881600    4.719330   \n",
       "25%        32.000000  12216.250000    7.539588   -7.706960   10.576650   \n",
       "50%        61.000000  16047.500000   10.993850   -1.688120   19.411600   \n",
       "75%        92.750000  18527.000000   17.593800    4.916430   25.759050   \n",
       "max       122.000000  21983.000000   24.778000    9.725260   32.630200   \n",
       "\n",
       "       VertexDepth  MeshScalar       theta  \n",
       "count   614.000000  614.000000  614.000000  \n",
       "mean      1.192182  135.664495    0.689588  \n",
       "std       0.561579   11.827532    0.303376  \n",
       "min       0.000000   98.000000    0.000000  \n",
       "25%       1.000000  128.000000    0.468842  \n",
       "50%       1.000000  135.000000    0.716772  \n",
       "75%       1.000000  145.000000    0.958867  \n",
       "max       3.000000  167.000000    1.172375  "
      ]
     },
     "execution_count": 100,
     "metadata": {},
     "output_type": "execute_result"
    }
   ],
   "source": [
    "df_data_with_thetas_sorted_nodupes.describe()"
   ]
  },
  {
   "cell_type": "code",
   "execution_count": 101,
   "metadata": {},
   "outputs": [],
   "source": [
    "''' \n",
    "This function is not complete yet, it tries to compute the distance between each point in the list to its\n",
    "point on the line (vertex depth = v for all points within the same neighbourhood) \n",
    "'''\n",
    "def scar_width(df, threshold):\n",
    "    width = []; \n",
    "    is_scar = []; \n",
    "    #Ref_pt = [A.iloc[0]['X'], A.iloc[0]['Y'], A.iloc[0]['Z']] \n",
    "    \n",
    "    for index, row in df.iterrows():\n",
    "        if row['VertexDepth'] == 0:\n",
    "            pt_on_line = (row['X'], row['Y'], row['Z'])\n",
    "            \n",
    "        pt = (row['X'], row['Y'], row['Z'])\n",
    "        #distance = math.hypot(pt[0]-pt_on_line[0], pt[1]-pt_on_line[1], pt[1]-pt_on_line[1])\n",
    "        distance = math.sqrt((pt[0]-pt_on_line[0])**2 + (pt[1]-pt_on_line[1])**2 + (pt[2]-pt_on_line[2])**2)\n",
    "        \n",
    "        \n",
    "        if row['MeshScalar'] > threshold: \n",
    "            is_scar.append(1) \n",
    "            width.append(distance)\n",
    "        else:\n",
    "            is_scar.append(0)\n",
    "            width.append(0)\n",
    "    \n",
    "    width_df = pd.Series(width, name='scar_width');\n",
    "    is_scar_df = pd.Series(is_scar, name='scar_bin');\n",
    "    \n",
    "    df = pd.concat([df, width_df], axis=1)\n",
    "    df = pd.concat([df, is_scar_df], axis=1)\n",
    "\n",
    "    return df"
   ]
  },
  {
   "cell_type": "code",
   "execution_count": 102,
   "metadata": {},
   "outputs": [],
   "source": [
    "df_data_with_thetas_sorted = scar_width(df_data_with_thetas_sorted, 115)"
   ]
  },
  {
   "cell_type": "code",
   "execution_count": 103,
   "metadata": {},
   "outputs": [
    {
     "data": {
      "text/html": [
       "<div>\n",
       "<style>\n",
       "    .dataframe thead tr:only-child th {\n",
       "        text-align: right;\n",
       "    }\n",
       "\n",
       "    .dataframe thead th {\n",
       "        text-align: left;\n",
       "    }\n",
       "\n",
       "    .dataframe tbody tr th {\n",
       "        vertical-align: top;\n",
       "    }\n",
       "</style>\n",
       "<table border=\"1\" class=\"dataframe\">\n",
       "  <thead>\n",
       "    <tr style=\"text-align: right;\">\n",
       "      <th></th>\n",
       "      <th>MainVertexSeq</th>\n",
       "      <th>VertexID</th>\n",
       "      <th>X</th>\n",
       "      <th>Y</th>\n",
       "      <th>Z</th>\n",
       "      <th>VertexDepth</th>\n",
       "      <th>MeshScalar</th>\n",
       "      <th>theta</th>\n",
       "      <th>scar_width</th>\n",
       "      <th>scar_bin</th>\n",
       "    </tr>\n",
       "  </thead>\n",
       "  <tbody>\n",
       "    <tr>\n",
       "      <th>0</th>\n",
       "      <td>0</td>\n",
       "      <td>10891</td>\n",
       "      <td>14.0276</td>\n",
       "      <td>5.47094</td>\n",
       "      <td>6.64452</td>\n",
       "      <td>0</td>\n",
       "      <td>129</td>\n",
       "      <td>0.000000</td>\n",
       "      <td>0.000000</td>\n",
       "      <td>1</td>\n",
       "    </tr>\n",
       "    <tr>\n",
       "      <th>1</th>\n",
       "      <td>0</td>\n",
       "      <td>10891</td>\n",
       "      <td>14.0276</td>\n",
       "      <td>5.47094</td>\n",
       "      <td>6.64452</td>\n",
       "      <td>3</td>\n",
       "      <td>129</td>\n",
       "      <td>0.000000</td>\n",
       "      <td>0.000000</td>\n",
       "      <td>1</td>\n",
       "    </tr>\n",
       "    <tr>\n",
       "      <th>2</th>\n",
       "      <td>0</td>\n",
       "      <td>10577</td>\n",
       "      <td>14.5331</td>\n",
       "      <td>5.06337</td>\n",
       "      <td>6.03235</td>\n",
       "      <td>2</td>\n",
       "      <td>147</td>\n",
       "      <td>0.053935</td>\n",
       "      <td>0.000000</td>\n",
       "      <td>1</td>\n",
       "    </tr>\n",
       "    <tr>\n",
       "      <th>3</th>\n",
       "      <td>0</td>\n",
       "      <td>10576</td>\n",
       "      <td>14.0719</td>\n",
       "      <td>5.42438</td>\n",
       "      <td>5.47602</td>\n",
       "      <td>1</td>\n",
       "      <td>133</td>\n",
       "      <td>0.067395</td>\n",
       "      <td>0.000000</td>\n",
       "      <td>1</td>\n",
       "    </tr>\n",
       "    <tr>\n",
       "      <th>4</th>\n",
       "      <td>0</td>\n",
       "      <td>10281</td>\n",
       "      <td>14.7414</td>\n",
       "      <td>5.03519</td>\n",
       "      <td>5.14864</td>\n",
       "      <td>1</td>\n",
       "      <td>147</td>\n",
       "      <td>0.104296</td>\n",
       "      <td>0.000000</td>\n",
       "      <td>1</td>\n",
       "    </tr>\n",
       "    <tr>\n",
       "      <th>5</th>\n",
       "      <td>0</td>\n",
       "      <td>10578</td>\n",
       "      <td>15.1273</td>\n",
       "      <td>4.59701</td>\n",
       "      <td>5.92603</td>\n",
       "      <td>1</td>\n",
       "      <td>155</td>\n",
       "      <td>0.091151</td>\n",
       "      <td>0.891906</td>\n",
       "      <td>1</td>\n",
       "    </tr>\n",
       "    <tr>\n",
       "      <th>6</th>\n",
       "      <td>0</td>\n",
       "      <td>10892</td>\n",
       "      <td>14.6669</td>\n",
       "      <td>4.77617</td>\n",
       "      <td>6.89592</td>\n",
       "      <td>1</td>\n",
       "      <td>150</td>\n",
       "      <td>0.052362</td>\n",
       "      <td>0.891906</td>\n",
       "      <td>1</td>\n",
       "    </tr>\n",
       "    <tr>\n",
       "      <th>7</th>\n",
       "      <td>0</td>\n",
       "      <td>10584</td>\n",
       "      <td>13.4095</td>\n",
       "      <td>5.83217</td>\n",
       "      <td>5.75099</td>\n",
       "      <td>2</td>\n",
       "      <td>133</td>\n",
       "      <td>0.054098</td>\n",
       "      <td>0.000000</td>\n",
       "      <td>1</td>\n",
       "    </tr>\n",
       "    <tr>\n",
       "      <th>8</th>\n",
       "      <td>0</td>\n",
       "      <td>10288</td>\n",
       "      <td>12.6758</td>\n",
       "      <td>6.10886</td>\n",
       "      <td>4.95868</td>\n",
       "      <td>1</td>\n",
       "      <td>133</td>\n",
       "      <td>0.105097</td>\n",
       "      <td>0.000000</td>\n",
       "      <td>1</td>\n",
       "    </tr>\n",
       "    <tr>\n",
       "      <th>9</th>\n",
       "      <td>0</td>\n",
       "      <td>10289</td>\n",
       "      <td>13.4681</td>\n",
       "      <td>5.74157</td>\n",
       "      <td>4.71933</td>\n",
       "      <td>1</td>\n",
       "      <td>137</td>\n",
       "      <td>0.107763</td>\n",
       "      <td>0.000000</td>\n",
       "      <td>1</td>\n",
       "    </tr>\n",
       "    <tr>\n",
       "      <th>10</th>\n",
       "      <td>0</td>\n",
       "      <td>10583</td>\n",
       "      <td>12.8137</td>\n",
       "      <td>6.20542</td>\n",
       "      <td>5.94014</td>\n",
       "      <td>1</td>\n",
       "      <td>129</td>\n",
       "      <td>0.075494</td>\n",
       "      <td>0.000000</td>\n",
       "      <td>1</td>\n",
       "    </tr>\n",
       "    <tr>\n",
       "      <th>11</th>\n",
       "      <td>0</td>\n",
       "      <td>10897</td>\n",
       "      <td>13.3487</td>\n",
       "      <td>6.04894</td>\n",
       "      <td>6.66704</td>\n",
       "      <td>1</td>\n",
       "      <td>129</td>\n",
       "      <td>0.050213</td>\n",
       "      <td>0.000000</td>\n",
       "      <td>1</td>\n",
       "    </tr>\n",
       "    <tr>\n",
       "      <th>12</th>\n",
       "      <td>0</td>\n",
       "      <td>11207</td>\n",
       "      <td>14.3128</td>\n",
       "      <td>5.11406</td>\n",
       "      <td>7.75876</td>\n",
       "      <td>2</td>\n",
       "      <td>140</td>\n",
       "      <td>0.062067</td>\n",
       "      <td>1.846613</td>\n",
       "      <td>1</td>\n",
       "    </tr>\n",
       "    <tr>\n",
       "      <th>13</th>\n",
       "      <td>0</td>\n",
       "      <td>11208</td>\n",
       "      <td>14.6284</td>\n",
       "      <td>4.56527</td>\n",
       "      <td>7.75357</td>\n",
       "      <td>1</td>\n",
       "      <td>147</td>\n",
       "      <td>0.081967</td>\n",
       "      <td>1.846613</td>\n",
       "      <td>1</td>\n",
       "    </tr>\n",
       "    <tr>\n",
       "      <th>14</th>\n",
       "      <td>0</td>\n",
       "      <td>11214</td>\n",
       "      <td>13.8037</td>\n",
       "      <td>6.02105</td>\n",
       "      <td>7.82650</td>\n",
       "      <td>1</td>\n",
       "      <td>124</td>\n",
       "      <td>0.072937</td>\n",
       "      <td>0.000000</td>\n",
       "      <td>1</td>\n",
       "    </tr>\n",
       "    <tr>\n",
       "      <th>15</th>\n",
       "      <td>0</td>\n",
       "      <td>11522</td>\n",
       "      <td>14.5190</td>\n",
       "      <td>4.43044</td>\n",
       "      <td>8.76145</td>\n",
       "      <td>1</td>\n",
       "      <td>147</td>\n",
       "      <td>0.127218</td>\n",
       "      <td>0.000000</td>\n",
       "      <td>1</td>\n",
       "    </tr>\n",
       "    <tr>\n",
       "      <th>16</th>\n",
       "      <td>0</td>\n",
       "      <td>11526</td>\n",
       "      <td>14.2576</td>\n",
       "      <td>5.38845</td>\n",
       "      <td>8.60995</td>\n",
       "      <td>1</td>\n",
       "      <td>141</td>\n",
       "      <td>0.099054</td>\n",
       "      <td>0.000000</td>\n",
       "      <td>1</td>\n",
       "    </tr>\n",
       "    <tr>\n",
       "      <th>17</th>\n",
       "      <td>1</td>\n",
       "      <td>10892</td>\n",
       "      <td>14.6669</td>\n",
       "      <td>4.77617</td>\n",
       "      <td>6.89592</td>\n",
       "      <td>0</td>\n",
       "      <td>150</td>\n",
       "      <td>0.052362</td>\n",
       "      <td>0.919858</td>\n",
       "      <td>1</td>\n",
       "    </tr>\n",
       "    <tr>\n",
       "      <th>18</th>\n",
       "      <td>1</td>\n",
       "      <td>10892</td>\n",
       "      <td>14.6669</td>\n",
       "      <td>4.77617</td>\n",
       "      <td>6.89592</td>\n",
       "      <td>3</td>\n",
       "      <td>150</td>\n",
       "      <td>0.052362</td>\n",
       "      <td>0.919858</td>\n",
       "      <td>1</td>\n",
       "    </tr>\n",
       "    <tr>\n",
       "      <th>19</th>\n",
       "      <td>1</td>\n",
       "      <td>10891</td>\n",
       "      <td>14.0276</td>\n",
       "      <td>5.47094</td>\n",
       "      <td>6.64452</td>\n",
       "      <td>2</td>\n",
       "      <td>129</td>\n",
       "      <td>0.000000</td>\n",
       "      <td>0.919858</td>\n",
       "      <td>1</td>\n",
       "    </tr>\n",
       "  </tbody>\n",
       "</table>\n",
       "</div>"
      ],
      "text/plain": [
       "    MainVertexSeq  VertexID        X        Y        Z  VertexDepth  \\\n",
       "0               0     10891  14.0276  5.47094  6.64452            0   \n",
       "1               0     10891  14.0276  5.47094  6.64452            3   \n",
       "2               0     10577  14.5331  5.06337  6.03235            2   \n",
       "3               0     10576  14.0719  5.42438  5.47602            1   \n",
       "4               0     10281  14.7414  5.03519  5.14864            1   \n",
       "5               0     10578  15.1273  4.59701  5.92603            1   \n",
       "6               0     10892  14.6669  4.77617  6.89592            1   \n",
       "7               0     10584  13.4095  5.83217  5.75099            2   \n",
       "8               0     10288  12.6758  6.10886  4.95868            1   \n",
       "9               0     10289  13.4681  5.74157  4.71933            1   \n",
       "10              0     10583  12.8137  6.20542  5.94014            1   \n",
       "11              0     10897  13.3487  6.04894  6.66704            1   \n",
       "12              0     11207  14.3128  5.11406  7.75876            2   \n",
       "13              0     11208  14.6284  4.56527  7.75357            1   \n",
       "14              0     11214  13.8037  6.02105  7.82650            1   \n",
       "15              0     11522  14.5190  4.43044  8.76145            1   \n",
       "16              0     11526  14.2576  5.38845  8.60995            1   \n",
       "17              1     10892  14.6669  4.77617  6.89592            0   \n",
       "18              1     10892  14.6669  4.77617  6.89592            3   \n",
       "19              1     10891  14.0276  5.47094  6.64452            2   \n",
       "\n",
       "    MeshScalar     theta  scar_width  scar_bin  \n",
       "0          129  0.000000    0.000000         1  \n",
       "1          129  0.000000    0.000000         1  \n",
       "2          147  0.053935    0.000000         1  \n",
       "3          133  0.067395    0.000000         1  \n",
       "4          147  0.104296    0.000000         1  \n",
       "5          155  0.091151    0.891906         1  \n",
       "6          150  0.052362    0.891906         1  \n",
       "7          133  0.054098    0.000000         1  \n",
       "8          133  0.105097    0.000000         1  \n",
       "9          137  0.107763    0.000000         1  \n",
       "10         129  0.075494    0.000000         1  \n",
       "11         129  0.050213    0.000000         1  \n",
       "12         140  0.062067    1.846613         1  \n",
       "13         147  0.081967    1.846613         1  \n",
       "14         124  0.072937    0.000000         1  \n",
       "15         147  0.127218    0.000000         1  \n",
       "16         141  0.099054    0.000000         1  \n",
       "17         150  0.052362    0.919858         1  \n",
       "18         150  0.052362    0.919858         1  \n",
       "19         129  0.000000    0.919858         1  "
      ]
     },
     "execution_count": 103,
     "metadata": {},
     "output_type": "execute_result"
    }
   ],
   "source": [
    "df_data_with_thetas_sorted.head(20)"
   ]
  },
  {
   "cell_type": "code",
   "execution_count": null,
   "metadata": {
    "collapsed": true
   },
   "outputs": [],
   "source": []
  },
  {
   "cell_type": "code",
   "execution_count": null,
   "metadata": {},
   "outputs": [],
   "source": []
  },
  {
   "cell_type": "code",
   "execution_count": 104,
   "metadata": {},
   "outputs": [
    {
     "data": {
      "text/plain": [
       "<matplotlib.axes._subplots.AxesSubplot at 0x13f3c748>"
      ]
     },
     "execution_count": 104,
     "metadata": {},
     "output_type": "execute_result"
    },
    {
     "data": {
      "image/png": "[encoded data removed]",
      "text/plain": [
       "<matplotlib.figure.Figure at 0x14148a58>"
      ]
     },
     "metadata": {},
     "output_type": "display_data"
    }
   ],
   "source": [
    "sns.tsplot(pd.rolling_mean(df_data_with_thetas_sorted['scar_width'],200)) # Uses mean windowing=100, so 0 widths are smoothed"
   ]
  },
  {
   "cell_type": "code",
   "execution_count": null,
   "metadata": {
    "collapsed": true
   },
   "outputs": [],
   "source": []
  },
  {
   "cell_type": "code",
   "execution_count": null,
   "metadata": {
    "collapsed": true
   },
   "outputs": [],
   "source": []
  },
  {
   "cell_type": "code",
   "execution_count": null,
   "metadata": {
    "collapsed": true
   },
   "outputs": [],
   "source": []
  },
  {
   "cell_type": "code",
   "execution_count": null,
   "metadata": {
    "collapsed": true
   },
   "outputs": [],
   "source": []
  },
  {
   "cell_type": "code",
   "execution_count": null,
   "metadata": {
    "collapsed": true
   },
   "outputs": [],
   "source": []
  },
  {
   "cell_type": "code",
   "execution_count": null,
   "metadata": {
    "collapsed": true
   },
   "outputs": [],
   "source": []
  },
  {
   "cell_type": "code",
   "execution_count": null,
   "metadata": {
    "collapsed": true
   },
   "outputs": [],
   "source": []
  },
  {
   "cell_type": "code",
   "execution_count": null,
   "metadata": {
    "collapsed": true
   },
   "outputs": [],
   "source": []
  },
  {
   "cell_type": "code",
   "execution_count": null,
   "metadata": {
    "collapsed": true
   },
   "outputs": [],
   "source": []
  },
  {
   "cell_type": "code",
   "execution_count": null,
   "metadata": {
    "collapsed": true
   },
   "outputs": [],
   "source": []
  },
  {
   "cell_type": "code",
   "execution_count": null,
   "metadata": {
    "collapsed": true
   },
   "outputs": [],
   "source": []
  },
  {
   "cell_type": "code",
   "execution_count": null,
   "metadata": {
    "collapsed": true
   },
   "outputs": [],
   "source": []
  },
  {
   "cell_type": "code",
   "execution_count": null,
   "metadata": {
    "collapsed": true
   },
   "outputs": [],
   "source": []
  },
  {
   "cell_type": "code",
   "execution_count": null,
   "metadata": {
    "collapsed": true
   },
   "outputs": [],
   "source": []
  },
  {
   "cell_type": "code",
   "execution_count": null,
   "metadata": {
    "collapsed": true
   },
   "outputs": [],
   "source": []
  },
  {
   "cell_type": "code",
   "execution_count": null,
   "metadata": {
    "collapsed": true
   },
   "outputs": [],
   "source": []
  },
  {
   "cell_type": "code",
   "execution_count": null,
   "metadata": {
    "collapsed": true
   },
   "outputs": [],
   "source": []
  },
  {
   "cell_type": "code",
   "execution_count": null,
   "metadata": {
    "collapsed": true
   },
   "outputs": [],
   "source": []
  },
  {
   "cell_type": "code",
   "execution_count": null,
   "metadata": {
    "collapsed": true
   },
   "outputs": [],
   "source": []
  },
  {
   "cell_type": "code",
   "execution_count": null,
   "metadata": {
    "collapsed": true
   },
   "outputs": [],
   "source": []
  }
 ],
 "metadata": {
  "anaconda-cloud": {},
  "kernelspec": {
   "display_name": "Python 3",
   "language": "python",
   "name": "python3"
  },
  "language_info": {
   "codemirror_mode": {
    "name": "ipython",
    "version": 3
   },
   "file_extension": ".py",
   "mimetype": "text/x-python",
   "name": "python",
   "nbconvert_exporter": "python",
   "pygments_lexer": "ipython3",
   "version": "3.5.4"
  }
 },
 "nbformat": 4,
 "nbformat_minor": 1
}
