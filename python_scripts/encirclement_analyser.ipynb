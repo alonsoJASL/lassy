{
 "cells": [
  {
   "cell_type": "code",
   "execution_count": 5,
   "metadata": {},
   "outputs": [],
   "source": [
    "import pandas as pd\n",
    "import matplotlib.pyplot as plt\n",
    "import seaborn as sns\n",
    "import numpy as np\n",
    "from scipy.stats import norm\n",
    "from sklearn.preprocessing import StandardScaler\n",
    "from scipy import stats\n",
    "from mpl_toolkits.mplot3d import Axes3D\n",
    "from sklearn.model_selection import train_test_split\n",
    "import warnings\n",
    "\n",
    "warnings.filterwarnings('ignore')\n",
    "%matplotlib inline\n"
   ]
  },
  {
   "cell_type": "code",
   "execution_count": null,
   "metadata": {
    "collapsed": true
   },
   "outputs": [],
   "source": []
  },
  {
   "cell_type": "code",
   "execution_count": 6,
   "metadata": {
    "collapsed": true
   },
   "outputs": [],
   "source": [
    "df_data = pd.read_csv('./data/encirclement/PC_LPV_circle.csv')"
   ]
  },
  {
   "cell_type": "code",
   "execution_count": null,
   "metadata": {
    "collapsed": true
   },
   "outputs": [],
   "source": []
  },
  {
   "cell_type": "code",
   "execution_count": null,
   "metadata": {
    "collapsed": true
   },
   "outputs": [],
   "source": []
  },
  {
   "cell_type": "code",
   "execution_count": 7,
   "metadata": {},
   "outputs": [
    {
     "data": {
      "text/html": [
       "<div>\n",
       "<style>\n",
       "    .dataframe thead tr:only-child th {\n",
       "        text-align: right;\n",
       "    }\n",
       "\n",
       "    .dataframe thead th {\n",
       "        text-align: left;\n",
       "    }\n",
       "\n",
       "    .dataframe tbody tr th {\n",
       "        vertical-align: top;\n",
       "    }\n",
       "</style>\n",
       "<table border=\"1\" class=\"dataframe\">\n",
       "  <thead>\n",
       "    <tr style=\"text-align: right;\">\n",
       "      <th></th>\n",
       "      <th>MainVertexSeq</th>\n",
       "      <th>VertexID</th>\n",
       "      <th>X</th>\n",
       "      <th>Y</th>\n",
       "      <th>Z</th>\n",
       "      <th>VertexDepth</th>\n",
       "      <th>MeshScalar</th>\n",
       "    </tr>\n",
       "  </thead>\n",
       "  <tbody>\n",
       "    <tr>\n",
       "      <th>count</th>\n",
       "      <td>2033.000000</td>\n",
       "      <td>2033.000000</td>\n",
       "      <td>2033.000000</td>\n",
       "      <td>2033.000000</td>\n",
       "      <td>2033.000000</td>\n",
       "      <td>2033.000000</td>\n",
       "      <td>2033.000000</td>\n",
       "    </tr>\n",
       "    <tr>\n",
       "      <th>mean</th>\n",
       "      <td>59.269552</td>\n",
       "      <td>11028.350713</td>\n",
       "      <td>-5.619712</td>\n",
       "      <td>42.518684</td>\n",
       "      <td>42.185965</td>\n",
       "      <td>1.228234</td>\n",
       "      <td>51.100099</td>\n",
       "    </tr>\n",
       "    <tr>\n",
       "      <th>std</th>\n",
       "      <td>34.657167</td>\n",
       "      <td>1708.238468</td>\n",
       "      <td>11.205112</td>\n",
       "      <td>8.886443</td>\n",
       "      <td>5.969039</td>\n",
       "      <td>0.642223</td>\n",
       "      <td>22.262691</td>\n",
       "    </tr>\n",
       "    <tr>\n",
       "      <th>min</th>\n",
       "      <td>0.000000</td>\n",
       "      <td>7548.000000</td>\n",
       "      <td>-25.307500</td>\n",
       "      <td>27.609700</td>\n",
       "      <td>29.434600</td>\n",
       "      <td>0.000000</td>\n",
       "      <td>0.000000</td>\n",
       "    </tr>\n",
       "    <tr>\n",
       "      <th>25%</th>\n",
       "      <td>29.000000</td>\n",
       "      <td>9434.000000</td>\n",
       "      <td>-15.240900</td>\n",
       "      <td>33.869200</td>\n",
       "      <td>36.958800</td>\n",
       "      <td>1.000000</td>\n",
       "      <td>32.833300</td>\n",
       "    </tr>\n",
       "    <tr>\n",
       "      <th>50%</th>\n",
       "      <td>59.000000</td>\n",
       "      <td>11603.000000</td>\n",
       "      <td>-6.498280</td>\n",
       "      <td>42.778900</td>\n",
       "      <td>44.310500</td>\n",
       "      <td>1.000000</td>\n",
       "      <td>44.166700</td>\n",
       "    </tr>\n",
       "    <tr>\n",
       "      <th>75%</th>\n",
       "      <td>89.000000</td>\n",
       "      <td>12325.000000</td>\n",
       "      <td>5.438360</td>\n",
       "      <td>51.907600</td>\n",
       "      <td>46.795100</td>\n",
       "      <td>1.000000</td>\n",
       "      <td>72.500000</td>\n",
       "    </tr>\n",
       "    <tr>\n",
       "      <th>max</th>\n",
       "      <td>119.000000</td>\n",
       "      <td>13373.000000</td>\n",
       "      <td>12.881600</td>\n",
       "      <td>54.538700</td>\n",
       "      <td>50.519200</td>\n",
       "      <td>3.000000</td>\n",
       "      <td>98.714300</td>\n",
       "    </tr>\n",
       "  </tbody>\n",
       "</table>\n",
       "</div>"
      ],
      "text/plain": [
       "       MainVertexSeq      VertexID            X            Y            Z  \\\n",
       "count    2033.000000   2033.000000  2033.000000  2033.000000  2033.000000   \n",
       "mean       59.269552  11028.350713    -5.619712    42.518684    42.185965   \n",
       "std        34.657167   1708.238468    11.205112     8.886443     5.969039   \n",
       "min         0.000000   7548.000000   -25.307500    27.609700    29.434600   \n",
       "25%        29.000000   9434.000000   -15.240900    33.869200    36.958800   \n",
       "50%        59.000000  11603.000000    -6.498280    42.778900    44.310500   \n",
       "75%        89.000000  12325.000000     5.438360    51.907600    46.795100   \n",
       "max       119.000000  13373.000000    12.881600    54.538700    50.519200   \n",
       "\n",
       "       VertexDepth   MeshScalar  \n",
       "count  2033.000000  2033.000000  \n",
       "mean      1.228234    51.100099  \n",
       "std       0.642223    22.262691  \n",
       "min       0.000000     0.000000  \n",
       "25%       1.000000    32.833300  \n",
       "50%       1.000000    44.166700  \n",
       "75%       1.000000    72.500000  \n",
       "max       3.000000    98.714300  "
      ]
     },
     "execution_count": 7,
     "metadata": {},
     "output_type": "execute_result"
    }
   ],
   "source": [
    "df_data.describe()"
   ]
  },
  {
   "cell_type": "code",
   "execution_count": null,
   "metadata": {
    "collapsed": true
   },
   "outputs": [],
   "source": []
  },
  {
   "cell_type": "code",
   "execution_count": 8,
   "metadata": {},
   "outputs": [
    {
     "data": {
      "image/png": "[encoded data removed]",
      "text/plain": [
       "<matplotlib.figure.Figure at 0xa518240>"
      ]
     },
     "metadata": {},
     "output_type": "display_data"
    }
   ],
   "source": [
    "fig = plt.figure()\n",
    "ax = Axes3D(fig)\n",
    "ax.scatter(df_data['X'], df_data['Y'], df_data['Z'])\n",
    "plt.show()"
   ]
  },
  {
   "cell_type": "code",
   "execution_count": 9,
   "metadata": {
    "collapsed": true
   },
   "outputs": [],
   "source": [
    "df_data_scalars = pd.concat([df_data['MainVertexSeq'], df_data['MeshScalar']], axis=1)"
   ]
  },
  {
   "cell_type": "code",
   "execution_count": 10,
   "metadata": {},
   "outputs": [
    {
     "data": {
      "image/png": "[encoded data removed]",
      "text/plain": [
       "<matplotlib.figure.Figure at 0xa8e7588>"
      ]
     },
     "metadata": {},
     "output_type": "display_data"
    }
   ],
   "source": [
    "ax = sns.boxplot(x=\"MainVertexSeq\", y=\"MeshScalar\", data=df_data_scalars)"
   ]
  },
  {
   "cell_type": "code",
   "execution_count": 11,
   "metadata": {
    "collapsed": true
   },
   "outputs": [],
   "source": [
    "g1 = df_data.groupby(['MainVertexSeq']).median()\n",
    "g1 = g1.reset_index()"
   ]
  },
  {
   "cell_type": "code",
   "execution_count": 12,
   "metadata": {},
   "outputs": [
    {
     "data": {
      "text/html": [
       "<div>\n",
       "<style>\n",
       "    .dataframe thead tr:only-child th {\n",
       "        text-align: right;\n",
       "    }\n",
       "\n",
       "    .dataframe thead th {\n",
       "        text-align: left;\n",
       "    }\n",
       "\n",
       "    .dataframe tbody tr th {\n",
       "        vertical-align: top;\n",
       "    }\n",
       "</style>\n",
       "<table border=\"1\" class=\"dataframe\">\n",
       "  <thead>\n",
       "    <tr style=\"text-align: right;\">\n",
       "      <th></th>\n",
       "      <th>MainVertexSeq</th>\n",
       "      <th>VertexID</th>\n",
       "      <th>X</th>\n",
       "      <th>Y</th>\n",
       "      <th>Z</th>\n",
       "      <th>VertexDepth</th>\n",
       "      <th>MeshScalar</th>\n",
       "    </tr>\n",
       "  </thead>\n",
       "  <tbody>\n",
       "    <tr>\n",
       "      <th>0</th>\n",
       "      <td>0</td>\n",
       "      <td>7816.0</td>\n",
       "      <td>0.307178</td>\n",
       "      <td>52.8903</td>\n",
       "      <td>31.173</td>\n",
       "      <td>1.0</td>\n",
       "      <td>81.5000</td>\n",
       "    </tr>\n",
       "    <tr>\n",
       "      <th>1</th>\n",
       "      <td>1</td>\n",
       "      <td>7802.0</td>\n",
       "      <td>1.556750</td>\n",
       "      <td>52.8299</td>\n",
       "      <td>30.842</td>\n",
       "      <td>1.0</td>\n",
       "      <td>81.8333</td>\n",
       "    </tr>\n",
       "  </tbody>\n",
       "</table>\n",
       "</div>"
      ],
      "text/plain": [
       "   MainVertexSeq  VertexID         X        Y       Z  VertexDepth  MeshScalar\n",
       "0              0    7816.0  0.307178  52.8903  31.173          1.0     81.5000\n",
       "1              1    7802.0  1.556750  52.8299  30.842          1.0     81.8333"
      ]
     },
     "execution_count": 12,
     "metadata": {},
     "output_type": "execute_result"
    }
   ],
   "source": [
    "g1.head(2)"
   ]
  },
  {
   "cell_type": "code",
   "execution_count": 13,
   "metadata": {},
   "outputs": [
    {
     "data": {
      "image/png": "[encoded data removed]",
      "text/plain": [
       "<matplotlib.figure.Figure at 0xd634668>"
      ]
     },
     "metadata": {},
     "output_type": "display_data"
    }
   ],
   "source": [
    "ax = sns.tsplot(data=g1['MeshScalar'])"
   ]
  },
  {
   "cell_type": "code",
   "execution_count": 14,
   "metadata": {
    "collapsed": true
   },
   "outputs": [],
   "source": [
    "center_data = [df_data['X'].mean(), df_data['Y'].mean(), df_data['Z'].mean()]"
   ]
  },
  {
   "cell_type": "code",
   "execution_count": 15,
   "metadata": {},
   "outputs": [
    {
     "data": {
      "text/plain": [
       "[-5.6197116212985732, 42.518684062961142, 42.1859651254304]"
      ]
     },
     "execution_count": 15,
     "metadata": {},
     "output_type": "execute_result"
    }
   ],
   "source": [
    "center_data"
   ]
  },
  {
   "cell_type": "code",
   "execution_count": 16,
   "metadata": {
    "collapsed": true
   },
   "outputs": [],
   "source": [
    "df_data_scalars = pd.concat([df_data['MainVertexSeq'], df_data['MeshScalar']], axis=1)"
   ]
  },
  {
   "cell_type": "code",
   "execution_count": 17,
   "metadata": {
    "collapsed": true
   },
   "outputs": [],
   "source": [
    "g1 = df_data.groupby(['MainVertexSeq']).median()\n",
    "g1 = g1.reset_index()"
   ]
  },
  {
   "cell_type": "code",
   "execution_count": 18,
   "metadata": {},
   "outputs": [
    {
     "data": {
      "image/png": "[encoded data removed]",
      "text/plain": [
       "<matplotlib.figure.Figure at 0xa4254e0>"
      ]
     },
     "metadata": {},
     "output_type": "display_data"
    }
   ],
   "source": [
    "ax = sns.tsplot(data=g1['MeshScalar'])"
   ]
  },
  {
   "cell_type": "code",
   "execution_count": 19,
   "metadata": {
    "collapsed": true
   },
   "outputs": [],
   "source": [
    "def unit_vector(vector):\n",
    "    \"\"\" Returns the unit vector of the vector.  \"\"\"\n",
    "    return vector / np.linalg.norm(vector)\n",
    "\n",
    "def angle_between(v1, v2):\n",
    "    \"\"\" Returns the angle in radians between vectors 'v1' and 'v2'::\n",
    "\n",
    "            >>> angle_between((1, 0, 0), (0, 1, 0))\n",
    "            1.5707963267948966\n",
    "            >>> angle_between((1, 0, 0), (1, 0, 0))\n",
    "            0.0\n",
    "            >>> angle_between((1, 0, 0), (-1, 0, 0))\n",
    "            3.141592653589793\n",
    "    \"\"\"\n",
    "    v1_u = unit_vector(v1)\n",
    "    v2_u = unit_vector(v2)\n",
    "    return np.arccos(np.clip(np.dot(v1_u, v2_u), -1.0, 1.0))"
   ]
  },
  {
   "cell_type": "code",
   "execution_count": 20,
   "metadata": {
    "collapsed": true
   },
   "outputs": [],
   "source": [
    "def point_theta(center, A):\n",
    "    thetas = []; \n",
    "    Ref_pt = [A.iloc[0]['X'], A.iloc[0]['Y'], A.iloc[0]['Z']] \n",
    "    for index, row in A.iterrows():\n",
    "        pt = [row['X'], row['Y'], row['Z']]\n",
    "        theta = angle_between(Ref_pt, pt)\n",
    "        thetas.append(theta)\n",
    "    return thetas\n"
   ]
  },
  {
   "cell_type": "code",
   "execution_count": 21,
   "metadata": {
    "collapsed": true
   },
   "outputs": [],
   "source": [
    "thetas = point_theta(center_data, df_data)"
   ]
  },
  {
   "cell_type": "code",
   "execution_count": 22,
   "metadata": {
    "collapsed": true
   },
   "outputs": [],
   "source": [
    "thetas_df = pd.Series(thetas, name='theta');"
   ]
  },
  {
   "cell_type": "code",
   "execution_count": 23,
   "metadata": {
    "collapsed": true
   },
   "outputs": [],
   "source": [
    "df_data_with_theta = pd.concat([df_data, thetas_df], axis=1)"
   ]
  },
  {
   "cell_type": "code",
   "execution_count": 24,
   "metadata": {},
   "outputs": [
    {
     "data": {
      "text/plain": [
       "<matplotlib.axes._subplots.AxesSubplot at 0xd73dd68>"
      ]
     },
     "execution_count": 24,
     "metadata": {},
     "output_type": "execute_result"
    },
    {
     "data": {
      "image/png": "[encoded data removed]",
      "text/plain": [
       "<matplotlib.figure.Figure at 0xd84bc18>"
      ]
     },
     "metadata": {},
     "output_type": "display_data"
    }
   ],
   "source": [
    "sns.tsplot(df_data_with_theta['theta'])"
   ]
  },
  {
   "cell_type": "code",
   "execution_count": 25,
   "metadata": {},
   "outputs": [],
   "source": [
    "df_data_with_thetas_sorted = df_data_with_theta.sort_values(by='theta')"
   ]
  },
  {
   "cell_type": "code",
   "execution_count": null,
   "metadata": {
    "collapsed": true
   },
   "outputs": [],
   "source": []
  },
  {
   "cell_type": "code",
   "execution_count": 26,
   "metadata": {},
   "outputs": [
    {
     "data": {
      "text/html": [
       "<div>\n",
       "<style>\n",
       "    .dataframe thead tr:only-child th {\n",
       "        text-align: right;\n",
       "    }\n",
       "\n",
       "    .dataframe thead th {\n",
       "        text-align: left;\n",
       "    }\n",
       "\n",
       "    .dataframe tbody tr th {\n",
       "        vertical-align: top;\n",
       "    }\n",
       "</style>\n",
       "<table border=\"1\" class=\"dataframe\">\n",
       "  <thead>\n",
       "    <tr style=\"text-align: right;\">\n",
       "      <th></th>\n",
       "      <th>MainVertexSeq</th>\n",
       "      <th>VertexID</th>\n",
       "      <th>X</th>\n",
       "      <th>Y</th>\n",
       "      <th>Z</th>\n",
       "      <th>VertexDepth</th>\n",
       "      <th>MeshScalar</th>\n",
       "      <th>theta</th>\n",
       "    </tr>\n",
       "  </thead>\n",
       "  <tbody>\n",
       "    <tr>\n",
       "      <th>0</th>\n",
       "      <td>0</td>\n",
       "      <td>7800</td>\n",
       "      <td>0.527843</td>\n",
       "      <td>52.8903</td>\n",
       "      <td>31.1730</td>\n",
       "      <td>0</td>\n",
       "      <td>89.0</td>\n",
       "      <td>0.000000</td>\n",
       "    </tr>\n",
       "    <tr>\n",
       "      <th>1</th>\n",
       "      <td>0</td>\n",
       "      <td>7800</td>\n",
       "      <td>0.527843</td>\n",
       "      <td>52.8903</td>\n",
       "      <td>31.1730</td>\n",
       "      <td>3</td>\n",
       "      <td>89.0</td>\n",
       "      <td>0.000000</td>\n",
       "    </tr>\n",
       "    <tr>\n",
       "      <th>109</th>\n",
       "      <td>6</td>\n",
       "      <td>7800</td>\n",
       "      <td>0.527843</td>\n",
       "      <td>52.8903</td>\n",
       "      <td>31.1730</td>\n",
       "      <td>2</td>\n",
       "      <td>89.0</td>\n",
       "      <td>0.000000</td>\n",
       "    </tr>\n",
       "    <tr>\n",
       "      <th>125</th>\n",
       "      <td>7</td>\n",
       "      <td>7800</td>\n",
       "      <td>0.527843</td>\n",
       "      <td>52.8903</td>\n",
       "      <td>31.1730</td>\n",
       "      <td>1</td>\n",
       "      <td>89.0</td>\n",
       "      <td>0.000000</td>\n",
       "    </tr>\n",
       "    <tr>\n",
       "      <th>92</th>\n",
       "      <td>5</td>\n",
       "      <td>7800</td>\n",
       "      <td>0.527843</td>\n",
       "      <td>52.8903</td>\n",
       "      <td>31.1730</td>\n",
       "      <td>1</td>\n",
       "      <td>89.0</td>\n",
       "      <td>0.000000</td>\n",
       "    </tr>\n",
       "    <tr>\n",
       "      <th>21</th>\n",
       "      <td>1</td>\n",
       "      <td>7800</td>\n",
       "      <td>0.527843</td>\n",
       "      <td>52.8903</td>\n",
       "      <td>31.1730</td>\n",
       "      <td>1</td>\n",
       "      <td>89.0</td>\n",
       "      <td>0.000000</td>\n",
       "    </tr>\n",
       "    <tr>\n",
       "      <th>31</th>\n",
       "      <td>1</td>\n",
       "      <td>8051</td>\n",
       "      <td>0.307178</td>\n",
       "      <td>52.5698</td>\n",
       "      <td>32.0035</td>\n",
       "      <td>1</td>\n",
       "      <td>83.0</td>\n",
       "      <td>0.014718</td>\n",
       "    </tr>\n",
       "    <tr>\n",
       "      <th>15</th>\n",
       "      <td>0</td>\n",
       "      <td>8051</td>\n",
       "      <td>0.307178</td>\n",
       "      <td>52.5698</td>\n",
       "      <td>32.0035</td>\n",
       "      <td>1</td>\n",
       "      <td>83.0</td>\n",
       "      <td>0.014718</td>\n",
       "    </tr>\n",
       "    <tr>\n",
       "      <th>113</th>\n",
       "      <td>6</td>\n",
       "      <td>8051</td>\n",
       "      <td>0.307178</td>\n",
       "      <td>52.5698</td>\n",
       "      <td>32.0035</td>\n",
       "      <td>1</td>\n",
       "      <td>83.0</td>\n",
       "      <td>0.014718</td>\n",
       "    </tr>\n",
       "    <tr>\n",
       "      <th>93</th>\n",
       "      <td>5</td>\n",
       "      <td>8051</td>\n",
       "      <td>0.307178</td>\n",
       "      <td>52.5698</td>\n",
       "      <td>32.0035</td>\n",
       "      <td>1</td>\n",
       "      <td>83.0</td>\n",
       "      <td>0.014718</td>\n",
       "    </tr>\n",
       "  </tbody>\n",
       "</table>\n",
       "</div>"
      ],
      "text/plain": [
       "     MainVertexSeq  VertexID         X        Y        Z  VertexDepth  \\\n",
       "0                0      7800  0.527843  52.8903  31.1730            0   \n",
       "1                0      7800  0.527843  52.8903  31.1730            3   \n",
       "109              6      7800  0.527843  52.8903  31.1730            2   \n",
       "125              7      7800  0.527843  52.8903  31.1730            1   \n",
       "92               5      7800  0.527843  52.8903  31.1730            1   \n",
       "21               1      7800  0.527843  52.8903  31.1730            1   \n",
       "31               1      8051  0.307178  52.5698  32.0035            1   \n",
       "15               0      8051  0.307178  52.5698  32.0035            1   \n",
       "113              6      8051  0.307178  52.5698  32.0035            1   \n",
       "93               5      8051  0.307178  52.5698  32.0035            1   \n",
       "\n",
       "     MeshScalar     theta  \n",
       "0          89.0  0.000000  \n",
       "1          89.0  0.000000  \n",
       "109        89.0  0.000000  \n",
       "125        89.0  0.000000  \n",
       "92         89.0  0.000000  \n",
       "21         89.0  0.000000  \n",
       "31         83.0  0.014718  \n",
       "15         83.0  0.014718  \n",
       "113        83.0  0.014718  \n",
       "93         83.0  0.014718  "
      ]
     },
     "execution_count": 26,
     "metadata": {},
     "output_type": "execute_result"
    }
   ],
   "source": [
    "df_data_with_thetas_sorted.head(10)"
   ]
  },
  {
   "cell_type": "code",
   "execution_count": 27,
   "metadata": {},
   "outputs": [
    {
     "data": {
      "text/plain": [
       "<matplotlib.axes._subplots.AxesSubplot at 0x117950b8>"
      ]
     },
     "execution_count": 27,
     "metadata": {},
     "output_type": "execute_result"
    },
    {
     "data": {
      "image/png": "[encoded data removed]",
      "text/plain": [
       "<matplotlib.figure.Figure at 0x1179a4e0>"
      ]
     },
     "metadata": {},
     "output_type": "display_data"
    }
   ],
   "source": [
    "sns.tsplot(df_data_with_thetas_sorted['theta'])"
   ]
  },
  {
   "cell_type": "code",
   "execution_count": null,
   "metadata": {
    "collapsed": true
   },
   "outputs": [],
   "source": []
  },
  {
   "cell_type": "code",
   "execution_count": 28,
   "metadata": {},
   "outputs": [
    {
     "data": {
      "text/plain": [
       "<matplotlib.axes._subplots.AxesSubplot at 0x127cd400>"
      ]
     },
     "execution_count": 28,
     "metadata": {},
     "output_type": "execute_result"
    },
    {
     "data": {
      "image/png": "[encoded data removed]",
      "text/plain": [
       "<matplotlib.figure.Figure at 0x127a45c0>"
      ]
     },
     "metadata": {},
     "output_type": "display_data"
    }
   ],
   "source": [
    "sns.tsplot(df_data_with_thetas_sorted['MeshScalar'])"
   ]
  },
  {
   "cell_type": "code",
   "execution_count": null,
   "metadata": {
    "collapsed": true
   },
   "outputs": [],
   "source": []
  },
  {
   "cell_type": "code",
   "execution_count": 29,
   "metadata": {},
   "outputs": [
    {
     "data": {
      "text/html": [
       "<div>\n",
       "<style>\n",
       "    .dataframe thead tr:only-child th {\n",
       "        text-align: right;\n",
       "    }\n",
       "\n",
       "    .dataframe thead th {\n",
       "        text-align: left;\n",
       "    }\n",
       "\n",
       "    .dataframe tbody tr th {\n",
       "        vertical-align: top;\n",
       "    }\n",
       "</style>\n",
       "<table border=\"1\" class=\"dataframe\">\n",
       "  <thead>\n",
       "    <tr style=\"text-align: right;\">\n",
       "      <th></th>\n",
       "      <th>MainVertexSeq</th>\n",
       "      <th>VertexID</th>\n",
       "      <th>X</th>\n",
       "      <th>Y</th>\n",
       "      <th>Z</th>\n",
       "      <th>VertexDepth</th>\n",
       "      <th>MeshScalar</th>\n",
       "      <th>theta</th>\n",
       "    </tr>\n",
       "  </thead>\n",
       "  <tbody>\n",
       "    <tr>\n",
       "      <th>0</th>\n",
       "      <td>0</td>\n",
       "      <td>7800</td>\n",
       "      <td>0.527843</td>\n",
       "      <td>52.8903</td>\n",
       "      <td>31.1730</td>\n",
       "      <td>0</td>\n",
       "      <td>89.0</td>\n",
       "      <td>0.000000</td>\n",
       "    </tr>\n",
       "    <tr>\n",
       "      <th>1</th>\n",
       "      <td>0</td>\n",
       "      <td>7800</td>\n",
       "      <td>0.527843</td>\n",
       "      <td>52.8903</td>\n",
       "      <td>31.1730</td>\n",
       "      <td>3</td>\n",
       "      <td>89.0</td>\n",
       "      <td>0.000000</td>\n",
       "    </tr>\n",
       "    <tr>\n",
       "      <th>109</th>\n",
       "      <td>6</td>\n",
       "      <td>7800</td>\n",
       "      <td>0.527843</td>\n",
       "      <td>52.8903</td>\n",
       "      <td>31.1730</td>\n",
       "      <td>2</td>\n",
       "      <td>89.0</td>\n",
       "      <td>0.000000</td>\n",
       "    </tr>\n",
       "    <tr>\n",
       "      <th>125</th>\n",
       "      <td>7</td>\n",
       "      <td>7800</td>\n",
       "      <td>0.527843</td>\n",
       "      <td>52.8903</td>\n",
       "      <td>31.1730</td>\n",
       "      <td>1</td>\n",
       "      <td>89.0</td>\n",
       "      <td>0.000000</td>\n",
       "    </tr>\n",
       "    <tr>\n",
       "      <th>92</th>\n",
       "      <td>5</td>\n",
       "      <td>7800</td>\n",
       "      <td>0.527843</td>\n",
       "      <td>52.8903</td>\n",
       "      <td>31.1730</td>\n",
       "      <td>1</td>\n",
       "      <td>89.0</td>\n",
       "      <td>0.000000</td>\n",
       "    </tr>\n",
       "    <tr>\n",
       "      <th>21</th>\n",
       "      <td>1</td>\n",
       "      <td>7800</td>\n",
       "      <td>0.527843</td>\n",
       "      <td>52.8903</td>\n",
       "      <td>31.1730</td>\n",
       "      <td>1</td>\n",
       "      <td>89.0</td>\n",
       "      <td>0.000000</td>\n",
       "    </tr>\n",
       "    <tr>\n",
       "      <th>31</th>\n",
       "      <td>1</td>\n",
       "      <td>8051</td>\n",
       "      <td>0.307178</td>\n",
       "      <td>52.5698</td>\n",
       "      <td>32.0035</td>\n",
       "      <td>1</td>\n",
       "      <td>83.0</td>\n",
       "      <td>0.014718</td>\n",
       "    </tr>\n",
       "    <tr>\n",
       "      <th>15</th>\n",
       "      <td>0</td>\n",
       "      <td>8051</td>\n",
       "      <td>0.307178</td>\n",
       "      <td>52.5698</td>\n",
       "      <td>32.0035</td>\n",
       "      <td>1</td>\n",
       "      <td>83.0</td>\n",
       "      <td>0.014718</td>\n",
       "    </tr>\n",
       "    <tr>\n",
       "      <th>113</th>\n",
       "      <td>6</td>\n",
       "      <td>8051</td>\n",
       "      <td>0.307178</td>\n",
       "      <td>52.5698</td>\n",
       "      <td>32.0035</td>\n",
       "      <td>1</td>\n",
       "      <td>83.0</td>\n",
       "      <td>0.014718</td>\n",
       "    </tr>\n",
       "    <tr>\n",
       "      <th>93</th>\n",
       "      <td>5</td>\n",
       "      <td>8051</td>\n",
       "      <td>0.307178</td>\n",
       "      <td>52.5698</td>\n",
       "      <td>32.0035</td>\n",
       "      <td>1</td>\n",
       "      <td>83.0</td>\n",
       "      <td>0.014718</td>\n",
       "    </tr>\n",
       "    <tr>\n",
       "      <th>110</th>\n",
       "      <td>6</td>\n",
       "      <td>7799</td>\n",
       "      <td>0.068908</td>\n",
       "      <td>53.2307</td>\n",
       "      <td>30.4550</td>\n",
       "      <td>1</td>\n",
       "      <td>79.4</td>\n",
       "      <td>0.014913</td>\n",
       "    </tr>\n",
       "    <tr>\n",
       "      <th>20</th>\n",
       "      <td>1</td>\n",
       "      <td>7799</td>\n",
       "      <td>0.068908</td>\n",
       "      <td>53.2307</td>\n",
       "      <td>30.4550</td>\n",
       "      <td>1</td>\n",
       "      <td>79.4</td>\n",
       "      <td>0.014913</td>\n",
       "    </tr>\n",
       "    <tr>\n",
       "      <th>2</th>\n",
       "      <td>0</td>\n",
       "      <td>7799</td>\n",
       "      <td>0.068908</td>\n",
       "      <td>53.2307</td>\n",
       "      <td>30.4550</td>\n",
       "      <td>2</td>\n",
       "      <td>79.4</td>\n",
       "      <td>0.014913</td>\n",
       "    </tr>\n",
       "    <tr>\n",
       "      <th>6</th>\n",
       "      <td>0</td>\n",
       "      <td>8050</td>\n",
       "      <td>-0.379822</td>\n",
       "      <td>53.1149</td>\n",
       "      <td>30.9997</td>\n",
       "      <td>1</td>\n",
       "      <td>79.8</td>\n",
       "      <td>0.015382</td>\n",
       "    </tr>\n",
       "    <tr>\n",
       "      <th>106</th>\n",
       "      <td>6</td>\n",
       "      <td>8050</td>\n",
       "      <td>-0.379822</td>\n",
       "      <td>53.1149</td>\n",
       "      <td>30.9997</td>\n",
       "      <td>1</td>\n",
       "      <td>79.8</td>\n",
       "      <td>0.015382</td>\n",
       "    </tr>\n",
       "  </tbody>\n",
       "</table>\n",
       "</div>"
      ],
      "text/plain": [
       "     MainVertexSeq  VertexID         X        Y        Z  VertexDepth  \\\n",
       "0                0      7800  0.527843  52.8903  31.1730            0   \n",
       "1                0      7800  0.527843  52.8903  31.1730            3   \n",
       "109              6      7800  0.527843  52.8903  31.1730            2   \n",
       "125              7      7800  0.527843  52.8903  31.1730            1   \n",
       "92               5      7800  0.527843  52.8903  31.1730            1   \n",
       "21               1      7800  0.527843  52.8903  31.1730            1   \n",
       "31               1      8051  0.307178  52.5698  32.0035            1   \n",
       "15               0      8051  0.307178  52.5698  32.0035            1   \n",
       "113              6      8051  0.307178  52.5698  32.0035            1   \n",
       "93               5      8051  0.307178  52.5698  32.0035            1   \n",
       "110              6      7799  0.068908  53.2307  30.4550            1   \n",
       "20               1      7799  0.068908  53.2307  30.4550            1   \n",
       "2                0      7799  0.068908  53.2307  30.4550            2   \n",
       "6                0      8050 -0.379822  53.1149  30.9997            1   \n",
       "106              6      8050 -0.379822  53.1149  30.9997            1   \n",
       "\n",
       "     MeshScalar     theta  \n",
       "0          89.0  0.000000  \n",
       "1          89.0  0.000000  \n",
       "109        89.0  0.000000  \n",
       "125        89.0  0.000000  \n",
       "92         89.0  0.000000  \n",
       "21         89.0  0.000000  \n",
       "31         83.0  0.014718  \n",
       "15         83.0  0.014718  \n",
       "113        83.0  0.014718  \n",
       "93         83.0  0.014718  \n",
       "110        79.4  0.014913  \n",
       "20         79.4  0.014913  \n",
       "2          79.4  0.014913  \n",
       "6          79.8  0.015382  \n",
       "106        79.8  0.015382  "
      ]
     },
     "execution_count": 29,
     "metadata": {},
     "output_type": "execute_result"
    }
   ],
   "source": [
    "df_data_with_thetas_sorted.head(15)"
   ]
  },
  {
   "cell_type": "code",
   "execution_count": null,
   "metadata": {
    "collapsed": true
   },
   "outputs": [],
   "source": []
  },
  {
   "cell_type": "code",
   "execution_count": 30,
   "metadata": {
    "collapsed": true
   },
   "outputs": [],
   "source": [
    "df_data_with_thetas_sorted_nodupes = df_data_with_thetas_sorted.drop_duplicates(subset='VertexID', keep='last');"
   ]
  },
  {
   "cell_type": "code",
   "execution_count": 34,
   "metadata": {},
   "outputs": [
    {
     "data": {
      "text/html": [
       "<div>\n",
       "<style>\n",
       "    .dataframe thead tr:only-child th {\n",
       "        text-align: right;\n",
       "    }\n",
       "\n",
       "    .dataframe thead th {\n",
       "        text-align: left;\n",
       "    }\n",
       "\n",
       "    .dataframe tbody tr th {\n",
       "        vertical-align: top;\n",
       "    }\n",
       "</style>\n",
       "<table border=\"1\" class=\"dataframe\">\n",
       "  <thead>\n",
       "    <tr style=\"text-align: right;\">\n",
       "      <th></th>\n",
       "      <th>MainVertexSeq</th>\n",
       "      <th>VertexID</th>\n",
       "      <th>X</th>\n",
       "      <th>Y</th>\n",
       "      <th>Z</th>\n",
       "      <th>VertexDepth</th>\n",
       "      <th>MeshScalar</th>\n",
       "      <th>theta</th>\n",
       "    </tr>\n",
       "  </thead>\n",
       "  <tbody>\n",
       "    <tr>\n",
       "      <th>21</th>\n",
       "      <td>1</td>\n",
       "      <td>7800</td>\n",
       "      <td>0.527843</td>\n",
       "      <td>52.8903</td>\n",
       "      <td>31.1730</td>\n",
       "      <td>1</td>\n",
       "      <td>89.0000</td>\n",
       "      <td>0.000000</td>\n",
       "    </tr>\n",
       "    <tr>\n",
       "      <th>93</th>\n",
       "      <td>5</td>\n",
       "      <td>8051</td>\n",
       "      <td>0.307178</td>\n",
       "      <td>52.5698</td>\n",
       "      <td>32.0035</td>\n",
       "      <td>1</td>\n",
       "      <td>83.0000</td>\n",
       "      <td>0.014718</td>\n",
       "    </tr>\n",
       "    <tr>\n",
       "      <th>2</th>\n",
       "      <td>0</td>\n",
       "      <td>7799</td>\n",
       "      <td>0.068908</td>\n",
       "      <td>53.2307</td>\n",
       "      <td>30.4550</td>\n",
       "      <td>2</td>\n",
       "      <td>79.4000</td>\n",
       "      <td>0.014913</td>\n",
       "    </tr>\n",
       "    <tr>\n",
       "      <th>91</th>\n",
       "      <td>5</td>\n",
       "      <td>8050</td>\n",
       "      <td>-0.379822</td>\n",
       "      <td>53.1149</td>\n",
       "      <td>30.9997</td>\n",
       "      <td>1</td>\n",
       "      <td>79.8000</td>\n",
       "      <td>0.015382</td>\n",
       "    </tr>\n",
       "    <tr>\n",
       "      <th>10</th>\n",
       "      <td>0</td>\n",
       "      <td>8052</td>\n",
       "      <td>1.261870</td>\n",
       "      <td>52.5128</td>\n",
       "      <td>31.6722</td>\n",
       "      <td>1</td>\n",
       "      <td>81.8333</td>\n",
       "      <td>0.015691</td>\n",
       "    </tr>\n",
       "  </tbody>\n",
       "</table>\n",
       "</div>"
      ],
      "text/plain": [
       "    MainVertexSeq  VertexID         X        Y        Z  VertexDepth  \\\n",
       "21              1      7800  0.527843  52.8903  31.1730            1   \n",
       "93              5      8051  0.307178  52.5698  32.0035            1   \n",
       "2               0      7799  0.068908  53.2307  30.4550            2   \n",
       "91              5      8050 -0.379822  53.1149  30.9997            1   \n",
       "10              0      8052  1.261870  52.5128  31.6722            1   \n",
       "\n",
       "    MeshScalar     theta  \n",
       "21     89.0000  0.000000  \n",
       "93     83.0000  0.014718  \n",
       "2      79.4000  0.014913  \n",
       "91     79.8000  0.015382  \n",
       "10     81.8333  0.015691  "
      ]
     },
     "execution_count": 34,
     "metadata": {},
     "output_type": "execute_result"
    }
   ],
   "source": [
    "df_data_with_thetas_sorted_nodupes.head(5)"
   ]
  },
  {
   "cell_type": "code",
   "execution_count": null,
   "metadata": {
    "collapsed": true
   },
   "outputs": [],
   "source": []
  },
  {
   "cell_type": "code",
   "execution_count": null,
   "metadata": {
    "collapsed": true
   },
   "outputs": [],
   "source": []
  },
  {
   "cell_type": "code",
   "execution_count": null,
   "metadata": {
    "collapsed": true
   },
   "outputs": [],
   "source": []
  },
  {
   "cell_type": "code",
   "execution_count": null,
   "metadata": {
    "collapsed": true
   },
   "outputs": [],
   "source": []
  },
  {
   "cell_type": "code",
   "execution_count": 31,
   "metadata": {},
   "outputs": [
    {
     "data": {
      "text/plain": [
       "<matplotlib.axes._subplots.AxesSubplot at 0x127b4208>"
      ]
     },
     "execution_count": 31,
     "metadata": {},
     "output_type": "execute_result"
    },
    {
     "data": {
      "image/png": "[encoded data removed]",
      "text/plain": [
       "<matplotlib.figure.Figure at 0x127acd68>"
      ]
     },
     "metadata": {},
     "output_type": "display_data"
    }
   ],
   "source": [
    "sns.tsplot(pd.rolling_mean(df_data_with_thetas_sorted_nodupes['MeshScalar'],20))"
   ]
  },
  {
   "cell_type": "code",
   "execution_count": null,
   "metadata": {
    "collapsed": true
   },
   "outputs": [],
   "source": []
  },
  {
   "cell_type": "code",
   "execution_count": null,
   "metadata": {
    "collapsed": true
   },
   "outputs": [],
   "source": []
  },
  {
   "cell_type": "code",
   "execution_count": null,
   "metadata": {
    "collapsed": true
   },
   "outputs": [],
   "source": []
  },
  {
   "cell_type": "code",
   "execution_count": null,
   "metadata": {
    "collapsed": true
   },
   "outputs": [],
   "source": []
  },
  {
   "cell_type": "code",
   "execution_count": null,
   "metadata": {
    "collapsed": true
   },
   "outputs": [],
   "source": []
  },
  {
   "cell_type": "code",
   "execution_count": 32,
   "metadata": {},
   "outputs": [
    {
     "data": {
      "text/html": [
       "<div>\n",
       "<style>\n",
       "    .dataframe thead tr:only-child th {\n",
       "        text-align: right;\n",
       "    }\n",
       "\n",
       "    .dataframe thead th {\n",
       "        text-align: left;\n",
       "    }\n",
       "\n",
       "    .dataframe tbody tr th {\n",
       "        vertical-align: top;\n",
       "    }\n",
       "</style>\n",
       "<table border=\"1\" class=\"dataframe\">\n",
       "  <thead>\n",
       "    <tr style=\"text-align: right;\">\n",
       "      <th></th>\n",
       "      <th>MainVertexSeq</th>\n",
       "      <th>VertexID</th>\n",
       "      <th>X</th>\n",
       "      <th>Y</th>\n",
       "      <th>Z</th>\n",
       "      <th>VertexDepth</th>\n",
       "      <th>MeshScalar</th>\n",
       "      <th>theta</th>\n",
       "    </tr>\n",
       "  </thead>\n",
       "  <tbody>\n",
       "    <tr>\n",
       "      <th>count</th>\n",
       "      <td>612.000000</td>\n",
       "      <td>612.000000</td>\n",
       "      <td>612.000000</td>\n",
       "      <td>612.000000</td>\n",
       "      <td>612.000000</td>\n",
       "      <td>612.000000</td>\n",
       "      <td>612.000000</td>\n",
       "      <td>612.000000</td>\n",
       "    </tr>\n",
       "    <tr>\n",
       "      <th>mean</th>\n",
       "      <td>60.743464</td>\n",
       "      <td>11092.119281</td>\n",
       "      <td>-5.855161</td>\n",
       "      <td>42.332157</td>\n",
       "      <td>42.405584</td>\n",
       "      <td>1.186275</td>\n",
       "      <td>49.732128</td>\n",
       "      <td>0.325193</td>\n",
       "    </tr>\n",
       "    <tr>\n",
       "      <th>std</th>\n",
       "      <td>34.605486</td>\n",
       "      <td>1704.206072</td>\n",
       "      <td>11.168901</td>\n",
       "      <td>8.928462</td>\n",
       "      <td>5.964877</td>\n",
       "      <td>0.531749</td>\n",
       "      <td>22.532758</td>\n",
       "      <td>0.163936</td>\n",
       "    </tr>\n",
       "    <tr>\n",
       "      <th>min</th>\n",
       "      <td>0.000000</td>\n",
       "      <td>7548.000000</td>\n",
       "      <td>-25.307500</td>\n",
       "      <td>27.609700</td>\n",
       "      <td>29.434600</td>\n",
       "      <td>0.000000</td>\n",
       "      <td>0.000000</td>\n",
       "      <td>0.000000</td>\n",
       "    </tr>\n",
       "    <tr>\n",
       "      <th>25%</th>\n",
       "      <td>30.000000</td>\n",
       "      <td>9643.750000</td>\n",
       "      <td>-15.662100</td>\n",
       "      <td>33.773375</td>\n",
       "      <td>37.207550</td>\n",
       "      <td>1.000000</td>\n",
       "      <td>31.575000</td>\n",
       "      <td>0.190894</td>\n",
       "    </tr>\n",
       "    <tr>\n",
       "      <th>50%</th>\n",
       "      <td>62.000000</td>\n",
       "      <td>11609.500000</td>\n",
       "      <td>-6.706870</td>\n",
       "      <td>42.563750</td>\n",
       "      <td>44.506300</td>\n",
       "      <td>1.000000</td>\n",
       "      <td>40.916650</td>\n",
       "      <td>0.334881</td>\n",
       "    </tr>\n",
       "    <tr>\n",
       "      <th>75%</th>\n",
       "      <td>90.250000</td>\n",
       "      <td>12508.250000</td>\n",
       "      <td>4.839375</td>\n",
       "      <td>51.794375</td>\n",
       "      <td>47.028150</td>\n",
       "      <td>1.000000</td>\n",
       "      <td>69.812500</td>\n",
       "      <td>0.469522</td>\n",
       "    </tr>\n",
       "    <tr>\n",
       "      <th>max</th>\n",
       "      <td>119.000000</td>\n",
       "      <td>13373.000000</td>\n",
       "      <td>12.881600</td>\n",
       "      <td>54.538700</td>\n",
       "      <td>50.519200</td>\n",
       "      <td>3.000000</td>\n",
       "      <td>98.714300</td>\n",
       "      <td>0.577260</td>\n",
       "    </tr>\n",
       "  </tbody>\n",
       "</table>\n",
       "</div>"
      ],
      "text/plain": [
       "       MainVertexSeq      VertexID           X           Y           Z  \\\n",
       "count     612.000000    612.000000  612.000000  612.000000  612.000000   \n",
       "mean       60.743464  11092.119281   -5.855161   42.332157   42.405584   \n",
       "std        34.605486   1704.206072   11.168901    8.928462    5.964877   \n",
       "min         0.000000   7548.000000  -25.307500   27.609700   29.434600   \n",
       "25%        30.000000   9643.750000  -15.662100   33.773375   37.207550   \n",
       "50%        62.000000  11609.500000   -6.706870   42.563750   44.506300   \n",
       "75%        90.250000  12508.250000    4.839375   51.794375   47.028150   \n",
       "max       119.000000  13373.000000   12.881600   54.538700   50.519200   \n",
       "\n",
       "       VertexDepth  MeshScalar       theta  \n",
       "count   612.000000  612.000000  612.000000  \n",
       "mean      1.186275   49.732128    0.325193  \n",
       "std       0.531749   22.532758    0.163936  \n",
       "min       0.000000    0.000000    0.000000  \n",
       "25%       1.000000   31.575000    0.190894  \n",
       "50%       1.000000   40.916650    0.334881  \n",
       "75%       1.000000   69.812500    0.469522  \n",
       "max       3.000000   98.714300    0.577260  "
      ]
     },
     "execution_count": 32,
     "metadata": {},
     "output_type": "execute_result"
    }
   ],
   "source": [
    "df_data_with_thetas_sorted_nodupes.describe()"
   ]
  },
  {
   "cell_type": "code",
   "execution_count": 43,
   "metadata": {},
   "outputs": [
    {
     "data": {
      "image/png": "[encoded data removed]",
      "text/plain": [
       "<matplotlib.figure.Figure at 0xd8340b8>"
      ]
     },
     "metadata": {},
     "output_type": "display_data"
    }
   ],
   "source": [
    "import numpy as np\n",
    "import matplotlib.pyplot as plt\n",
    "from matplotlib.mlab import griddata\n",
    "\n",
    "# Make some points\n",
    "npoints = 500\n",
    "x = np.random.uniform(low=0, high=3, size=npoints)\n",
    "y = np.random.uniform(low=-3, high=3, size=npoints)\n",
    "z = np.random.uniform(low=0, high=10, size=npoints)\n",
    "xi = np.linspace(0, 3, 100)\n",
    "yi = np.linspace(-3, 3, 200)\n",
    "zi = griddata(x, y, z, xi, yi, interp='linear')\n",
    "#CS = plt.contour(xi, yi, zi, 15, linewidths=0.5, colors='k')\n",
    "CS = plt.contourf(xi, yi, zi, 15,\n",
    "                  vmax=abs(zi).max(), vmin=-abs(zi).max())\n",
    "# Make the plot\n",
    "plt.colorbar()\n",
    "plt.show()"
   ]
  },
  {
   "cell_type": "code",
   "execution_count": 48,
   "metadata": {},
   "outputs": [
    {
     "data": {
      "image/png": "[encoded data removed]",
      "text/plain": [
       "<matplotlib.figure.Figure at 0xa848ba8>"
      ]
     },
     "metadata": {},
     "output_type": "display_data"
    }
   ],
   "source": [
    "xi = np.arange(x.min(),x.max()+1)\n",
    "yi = np.arange(y.min(),y.max()+1)\n",
    "ar = griddata(x,y,z,xi,yi, interp='linear')\n",
    "CS = plt.contourf(xi, yi, ar, 15,\n",
    "                  vmax=abs(ar).max(), vmin=-abs(ar).max())\n",
    "plt.colorbar()\n",
    "plt.show()"
   ]
  },
  {
   "cell_type": "code",
   "execution_count": null,
   "metadata": {
    "collapsed": true
   },
   "outputs": [],
   "source": []
  },
  {
   "cell_type": "code",
   "execution_count": null,
   "metadata": {
    "collapsed": true
   },
   "outputs": [],
   "source": []
  },
  {
   "cell_type": "code",
   "execution_count": null,
   "metadata": {
    "collapsed": true
   },
   "outputs": [],
   "source": []
  },
  {
   "cell_type": "code",
   "execution_count": null,
   "metadata": {
    "collapsed": true
   },
   "outputs": [],
   "source": []
  },
  {
   "cell_type": "code",
   "execution_count": null,
   "metadata": {
    "collapsed": true
   },
   "outputs": [],
   "source": []
  },
  {
   "cell_type": "code",
   "execution_count": null,
   "metadata": {
    "collapsed": true
   },
   "outputs": [],
   "source": []
  },
  {
   "cell_type": "code",
   "execution_count": null,
   "metadata": {
    "collapsed": true
   },
   "outputs": [],
   "source": []
  },
  {
   "cell_type": "code",
   "execution_count": null,
   "metadata": {
    "collapsed": true
   },
   "outputs": [],
   "source": []
  },
  {
   "cell_type": "code",
   "execution_count": null,
   "metadata": {
    "collapsed": true
   },
   "outputs": [],
   "source": []
  },
  {
   "cell_type": "code",
   "execution_count": null,
   "metadata": {
    "collapsed": true
   },
   "outputs": [],
   "source": []
  },
  {
   "cell_type": "code",
   "execution_count": null,
   "metadata": {
    "collapsed": true
   },
   "outputs": [],
   "source": []
  },
  {
   "cell_type": "code",
   "execution_count": null,
   "metadata": {
    "collapsed": true
   },
   "outputs": [],
   "source": []
  },
  {
   "cell_type": "code",
   "execution_count": null,
   "metadata": {
    "collapsed": true
   },
   "outputs": [],
   "source": []
  },
  {
   "cell_type": "code",
   "execution_count": null,
   "metadata": {
    "collapsed": true
   },
   "outputs": [],
   "source": []
  },
  {
   "cell_type": "code",
   "execution_count": null,
   "metadata": {
    "collapsed": true
   },
   "outputs": [],
   "source": []
  },
  {
   "cell_type": "code",
   "execution_count": null,
   "metadata": {
    "collapsed": true
   },
   "outputs": [],
   "source": []
  },
  {
   "cell_type": "code",
   "execution_count": null,
   "metadata": {
    "collapsed": true
   },
   "outputs": [],
   "source": []
  },
  {
   "cell_type": "code",
   "execution_count": null,
   "metadata": {
    "collapsed": true
   },
   "outputs": [],
   "source": []
  }
 ],
 "metadata": {
  "anaconda-cloud": {},
  "kernelspec": {
   "display_name": "Python 3",
   "language": "python",
   "name": "python3"
  },
  "language_info": {
   "codemirror_mode": {
    "name": "ipython",
    "version": 3
   },
   "file_extension": ".py",
   "mimetype": "text/x-python",
   "name": "python",
   "nbconvert_exporter": "python",
   "pygments_lexer": "ipython3",
   "version": "3.5.4"
  }
 },
 "nbformat": 4,
 "nbformat_minor": 1
}
