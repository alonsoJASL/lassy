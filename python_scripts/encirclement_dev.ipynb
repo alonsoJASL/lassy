{
 "cells": [
  {
   "cell_type": "markdown",
   "metadata": {},
   "source": [
    "# Encirclement analysis \n",
    "This notebook presents the post-processing made to the output file from the `./encirclement` command. Some functions need to be defined to perform some of the tasks. \n",
    "\n",
    "## Function definitions\n",
    "The following functions are defined for a representation of the gaps in the circle drawn:\n",
    "\n",
    "- `CircularPiePlotScarGap(df, t_nogap, no_plot=None)`\n",
    "- `CircularPiePlotScarWidth(df, t_scar, no_plot=None)`\n",
    "- `ProcessAllCases(about_data_df)`\n",
    "- `scar_width(df, threshold)` (incomplete) \n",
    "\n",
    "The following helper functions are defined too: \n",
    "\n",
    "- `WriteCSV(np_array, case_name, filename_csv, append_col=None)`\n",
    "- `unit_vector(vector)`\n",
    "- `point_theta(center, A)`\n"
   ]
  },
  {
   "cell_type": "code",
   "execution_count": 2,
   "metadata": {},
   "outputs": [],
   "source": [
    "# Imports \n",
    "import pandas as pd\n",
    "import matplotlib.pyplot as plt\n",
    "import seaborn as sns\n",
    "import numpy as np\n",
    "from scipy.stats import norm\n",
    "from sklearn.preprocessing import StandardScaler\n",
    "from scipy import stats\n",
    "from mpl_toolkits.mplot3d import Axes3D\n",
    "from sklearn.model_selection import train_test_split\n",
    "import warnings\n",
    "import math\n",
    "from numpy import linalg as LA\n",
    "from numpy import random, nanmax, argmax, unravel_index\n",
    "from scipy.spatial.distance import pdist, squareform\n",
    "\n",
    "warnings.filterwarnings('ignore')\n",
    "%matplotlib inline\n"
   ]
  },
  {
   "cell_type": "code",
   "execution_count": null,
   "metadata": {},
   "outputs": [],
   "source": [
    "data_path_prefix = './data/encirclement/'\n",
    "data_df=pd.read_csv('./data/encirclement/about_data.csv')\n",
    "data_df.head(3)\n",
    "\n",
    "df_data = df_data[df_data.VertexID.duplicated(keep=False)]"
   ]
  },
  {
   "cell_type": "code",
   "execution_count": null,
   "metadata": {},
   "outputs": [],
   "source": [
    "ProcessAllCases(about_data_df)"
   ]
  },
  {
   "cell_type": "code",
   "execution_count": null,
   "metadata": {},
   "outputs": [],
   "source": [
    "scar_widths = CircularPiePlotScarWidth(df_data,59)   # use 0.5 for DP and 4.5 for CF"
   ]
  },
  {
   "cell_type": "code",
   "execution_count": null,
   "metadata": {},
   "outputs": [],
   "source": [
    "df_data_scalars = pd.concat([df_data['MainVertexSeq'], df_data['MeshScalar']], axis=1)"
   ]
  },
  {
   "cell_type": "code",
   "execution_count": null,
   "metadata": {},
   "outputs": [],
   "source": [
    "scar_gaps = CircularPiePlotScarGap(df_data_scalars,59)   # use 0.5 for DP and 4.5 for CF"
   ]
  },
  {
   "cell_type": "code",
   "execution_count": null,
   "metadata": {},
   "outputs": [],
   "source": [
    "print scar_grps"
   ]
  },
  {
   "cell_type": "code",
   "execution_count": null,
   "metadata": {},
   "outputs": [],
   "source": [
    "scar_grps.mean()"
   ]
  },
  {
   "cell_type": "code",
   "execution_count": null,
   "metadata": {},
   "outputs": [],
   "source": [
    "ax = sns.boxplot(x=\"MainVertexSeq\", y=\"MeshScalar\", data=df_data_scalars)"
   ]
  },
  {
   "cell_type": "code",
   "execution_count": null,
   "metadata": {},
   "outputs": [],
   "source": [
    "g1 = df_data.groupby(['MainVertexSeq']).median()\n",
    "g1 = g1.reset_index()"
   ]
  },
  {
   "cell_type": "code",
   "execution_count": null,
   "metadata": {},
   "outputs": [],
   "source": [
    "g1.head(2)"
   ]
  },
  {
   "cell_type": "code",
   "execution_count": null,
   "metadata": {},
   "outputs": [],
   "source": [
    "ax = sns.tsplot(data=g1['MeshScalar'])"
   ]
  },
  {
   "cell_type": "code",
   "execution_count": null,
   "metadata": {},
   "outputs": [],
   "source": [
    "center_data = [df_data['X'].mean(), df_data['Y'].mean(), df_data['Z'].mean()]"
   ]
  },
  {
   "cell_type": "code",
   "execution_count": null,
   "metadata": {},
   "outputs": [],
   "source": [
    "fig = plt.figure()\n",
    "ax = Axes3D(fig)\n",
    "ax.scatter(df_data['X'], df_data['Y'], df_data['Z'])\n",
    "ax.plot([center_data[0]], [center_data[1]], [center_data[2]], markerfacecolor='k', markeredgecolor='k', marker='o', markersize=20, alpha=0.6)\n",
    "plt.show()"
   ]
  },
  {
   "cell_type": "code",
   "execution_count": null,
   "metadata": {},
   "outputs": [],
   "source": [
    "center_data"
   ]
  },
  {
   "cell_type": "code",
   "execution_count": null,
   "metadata": {},
   "outputs": [],
   "source": [
    "df_data_scalars = pd.concat([df_data['MainVertexSeq'], df_data['MeshScalar']], axis=1)"
   ]
  },
  {
   "cell_type": "code",
   "execution_count": null,
   "metadata": {},
   "outputs": [],
   "source": [
    "g1 = df_data.groupby(['MainVertexSeq']).median()\n",
    "g1 = g1.reset_index()"
   ]
  },
  {
   "cell_type": "code",
   "execution_count": null,
   "metadata": {},
   "outputs": [],
   "source": [
    "ax = sns.tsplot(data=g1['MeshScalar'])"
   ]
  },
  {
   "cell_type": "code",
   "execution_count": null,
   "metadata": {},
   "outputs": [],
   "source": [
    "thetas = point_theta(center_data, df_data)"
   ]
  },
  {
   "cell_type": "code",
   "execution_count": null,
   "metadata": {},
   "outputs": [],
   "source": [
    "thetas_df = pd.Series(thetas, name='theta');"
   ]
  },
  {
   "cell_type": "code",
   "execution_count": null,
   "metadata": {},
   "outputs": [],
   "source": [
    "thetas_df.describe()"
   ]
  },
  {
   "cell_type": "code",
   "execution_count": null,
   "metadata": {},
   "outputs": [],
   "source": [
    "df_data_with_theta = pd.concat([df_data, thetas_df], axis=1)"
   ]
  },
  {
   "cell_type": "code",
   "execution_count": null,
   "metadata": {},
   "outputs": [],
   "source": [
    "sns.tsplot(df_data_with_theta['theta'])"
   ]
  },
  {
   "cell_type": "code",
   "execution_count": null,
   "metadata": {},
   "outputs": [],
   "source": [
    "df_data_with_thetas_sorted = df_data_with_theta.sort_values(by='theta')"
   ]
  },
  {
   "cell_type": "code",
   "execution_count": null,
   "metadata": {},
   "outputs": [],
   "source": [
    "df_data_with_thetas_sorted.head(10)"
   ]
  },
  {
   "cell_type": "code",
   "execution_count": null,
   "metadata": {},
   "outputs": [],
   "source": [
    "sns.tsplot(df_data_with_thetas_sorted['theta'])"
   ]
  },
  {
   "cell_type": "code",
   "execution_count": null,
   "metadata": {},
   "outputs": [],
   "source": [
    "sns.tsplot(df_data_with_thetas_sorted['MeshScalar'])"
   ]
  },
  {
   "cell_type": "code",
   "execution_count": null,
   "metadata": {},
   "outputs": [],
   "source": [
    "df_data_with_thetas_sorted.head(15)"
   ]
  },
  {
   "cell_type": "code",
   "execution_count": null,
   "metadata": {},
   "outputs": [],
   "source": [
    "df_data_with_thetas_sorted['MeshScalar'].std()"
   ]
  },
  {
   "cell_type": "code",
   "execution_count": null,
   "metadata": {},
   "outputs": [],
   "source": [
    "df_data_with_thetas_sorted.head()"
   ]
  },
  {
   "cell_type": "code",
   "execution_count": null,
   "metadata": {},
   "outputs": [],
   "source": [
    "df_data_with_thetas_sorted_nodupes = df_data_with_thetas_sorted.drop_duplicates(subset='VertexID', keep='last');"
   ]
  },
  {
   "cell_type": "code",
   "execution_count": null,
   "metadata": {},
   "outputs": [],
   "source": [
    "sns.tsplot(pd.rolling_mean(df_data_with_thetas_sorted_nodupes['MeshScalar'],50))"
   ]
  },
  {
   "cell_type": "code",
   "execution_count": null,
   "metadata": {},
   "outputs": [],
   "source": [
    "sns.tsplot(pd.rolling_mean(df_data_with_theta['MeshScalar'], 50))"
   ]
  },
  {
   "cell_type": "code",
   "execution_count": null,
   "metadata": {},
   "outputs": [],
   "source": [
    "df_data_with_thetas_sorted_nodupes.describe()"
   ]
  },
  {
   "cell_type": "code",
   "execution_count": 1,
   "metadata": {},
   "outputs": [],
   "source": [
    "\n",
    "# t_nogap is the cut-off where a value above t_nogap means no gap \n",
    "def CircularPiePlotScarGap(df, t_nogap, no_plot=None):\n",
    "    count = len(df.as_matrix())\n",
    "    #scalars = df_data_with_theta.as_matrix(columns=df_data_with_theta.columns[7:8])\n",
    "    scalars = df['MeshScalar'].as_matrix()\n",
    "    num_prim_groups = 4 #  Do not change as pie plot is hard-coded to accept four primary groups\n",
    "    num_sub_groups = 4  #  Do not change as pie plot is hard-coded to accept four primary groups\n",
    "    total_groups = num_prim_groups*num_sub_groups\n",
    "    sub_group_size = count/total_groups\n",
    "\n",
    "    # Divide the data into 12 groups, 4 regions x 3 sub-regions, regions = post sup, post inf, etc. \n",
    "    sub_group_array = np.zeros(shape=(total_groups, 1))\n",
    "\n",
    "    n=0\n",
    "    sb = np.array_split(scalars, total_groups)\n",
    "    for i in sb: \n",
    "        sub_group_array[n] = np.mean(i)\n",
    "        n += 1\n",
    "        \n",
    "    \n",
    "    # binary classify sub_groups into gaps and no-gaps \n",
    "    bin_subgrouparray = sub_group_array > t_nogap\n",
    "    bin_subgrouparray = bin_subgrouparray * 1    # converts the false true array to 0 1 \n",
    "    \n",
    "    # Now prepare data for circular plot \n",
    "    \n",
    "    # First decide color sub-groups based on binary classification of sub_groups (i.e. t_nogaps)\n",
    "    a, b, c=[plt.cm.Blues, plt.cm.Reds, plt.cm.Greens]\n",
    "    color_subgroups = list() \n",
    "    for x in bin_subgrouparray: \n",
    "        if x == 1:\n",
    "            color_subgroups.append(b(0.5))\n",
    "        else:\n",
    "            color_subgroups.append(c(0.5))\n",
    "    \n",
    "    # Decide color of the primary groups (n=4) based on number of sub_groups classified as gaps/no-gaps \n",
    "    color_primgroups = list()\n",
    "    prim_group_array = np.zeros(shape=(num_prim_groups, 1))\n",
    "        \n",
    "    # classify primary groups \n",
    "    prim_group_array = np.split(bin_subgrouparray, num_prim_groups)\n",
    "    n=0\n",
    "    for i in prim_group_array: \n",
    "        prim_group_array[n] = np.sum(i)\n",
    "        n += 1\n",
    "        \n",
    "    for x in prim_group_array: \n",
    "        if x==1:\n",
    "            color_primgroups.append('green')\n",
    "        elif x==2: \n",
    "            color_primgroups.append('yellow')\n",
    "        elif x==3:\n",
    "            color_primgroups.append('gold')\n",
    "        elif x==4:\n",
    "            color_primgroups.append('red')\n",
    "        else:\n",
    "            color_primgroups.append('green')   # x == 0\n",
    "        \n",
    "        \n",
    "        \n",
    "    # Make data: I have 3 groups and 7 subgroups\n",
    "    group_names=['Post-Sup (A)', 'Ant-Sup (B)', 'Ant-Inf (C)', 'Post-Inf (D)']\n",
    "    group_size=[1,1,1,1]\n",
    "    subgroup_names=['A1', 'A2', 'A3', 'A4','B1', 'B2', 'B3', 'B4', 'C1', 'C2', 'C3', 'C4', 'D1', 'D2', 'D3', 'D4']\n",
    "    subgroup_size=[1,1,1,1,1,1,1,1,1,1,1,1,1,1,1,1]\n",
    "    \n",
    "    if no_plot is None: \n",
    "        # First Ring (outside)\n",
    "        fig, ax = plt.subplots()\n",
    "        ax.axis('equal')\n",
    "        mypie, _ = ax.pie(group_size, radius=1.3, labels=group_names, colors=color_primgroups )\n",
    "        plt.setp( mypie, width=0.3, edgecolor='white')\n",
    "\n",
    "        # Second Ring (Inside)\n",
    "        mypie2, _ = ax.pie(subgroup_size, radius=1.3-0.3, labels=subgroup_names, labeldistance=0.7, colors=color_subgroups)\n",
    "        plt.setp( mypie2, width=0.4, edgecolor='white')\n",
    "        plt.margins(0,0)\n",
    "\n",
    "        # show it\n",
    "        plt.show()\n",
    "    else: \n",
    "        return bin_subgrouparray\n",
    "        \n",
    "# t_nogap is the cut-off where a value above t_nogap means no gap \n",
    "def CircularPiePlotScarWidth(df, t_scar, no_plot=None):\n",
    "    count = len(df.as_matrix())\n",
    "    #scalars = df_data_with_theta.as_matrix(columns=df_data_with_theta.columns[7:8])\n",
    "    scalars = df['MeshScalar'].as_matrix()\n",
    "    num_prim_groups = 4 #  Do not change as pie plot is hard-coded to accept four primary groups\n",
    "    num_sub_groups = 4  #  Do not change as pie plot is hard-coded to accept four primary groups\n",
    "    total_groups = num_prim_groups*num_sub_groups\n",
    "    sub_group_size = count/total_groups\n",
    "     \n",
    "    # assigning each point into one of 16 sub-groups in the polar plot (sub_group_size = num_vertices/16)\n",
    "    df['scar_bin'] = df['MeshScalar'] > t_scar \n",
    "    df['scar_bin'] = df['scar_bin'] * 1 \n",
    "    df['polar_group'] = df['MainVertexSeq']\n",
    "    for i, row in df.iterrows():\n",
    "        #row['polar_group'] = math.ceil(index / sub_group_size )\n",
    "        df.at[i, 'polar_group'] = math.ceil(i / sub_group_size )\n",
    "    \n",
    "    # See https://stackoverflow.com/questions/31667070/max-distance-between-2-points-in-a-data-set-and-identifying-the-points\n",
    "    total_width_in_each_subgrp = []\n",
    "    scar_width_in_each_subgrp = []\n",
    "    for i in range(0, total_groups):\n",
    "        df_temp = df[df['polar_group']==i]\n",
    "        xyz = df_temp.as_matrix(columns=['X', 'Y', 'Z'])\n",
    "        D = pdist(xyz) # pair-wise distances \n",
    "        D = squareform(D)\n",
    "        N, [I_row, I_col] = nanmax(D), unravel_index( argmax(D), D.shape )\n",
    "        total_width_in_each_subgrp.append(round(N,2))\n",
    "        \n",
    "        # now select rows that was classified as scar\n",
    "        df_temp2 = df_temp[df_temp['scar_bin'] == 1]\n",
    "        xyz = df_temp2.as_matrix(columns=['X', 'Y', 'Z'])\n",
    "        D = pdist(xyz) # pair-wise distances \n",
    "        D = squareform(D)\n",
    "        N, [I_row, I_col] = nanmax(D), unravel_index( argmax(D), D.shape )\n",
    "        scar_width_in_each_subgrp.append(round(N,2))\n",
    "    \n",
    "    # calculate scar width percentage \n",
    "    scar_width_percentage = []\n",
    "    i=0\n",
    "    while i < len(scar_width_in_each_subgrp):\n",
    "        total = total_width_in_each_subgrp[i]\n",
    "        this_scar = scar_width_in_each_subgrp[i]\n",
    "        scar_width_percentage.append(this_scar/total)\n",
    "        i+=1\n",
    "    scar_width_percentage = np.asarray(scar_width_percentage)\n",
    "    # Now prepare data for circular plot \n",
    "    \n",
    "    # First decide color sub-groups based on binary classification of sub_groups (i.e. t_nogaps)\n",
    "    a, b, c=[plt.cm.Blues, plt.cm.Reds, plt.cm.Greens]\n",
    "    color_subgroups = list() \n",
    "    for x in scar_width_percentage: \n",
    "        if x >= 0.75:\n",
    "            color_subgroups.append('red')\n",
    "        elif x >= 0.5 and x < 0.75:\n",
    "            color_subgroups.append('gold')\n",
    "        elif x >= 0.25 and x < 0.5: \n",
    "            color_subgroups.append('yellow')\n",
    "        elif x >= 0 and x < 0.25: \n",
    "            color_subgroups.append('green')\n",
    "       \n",
    "            \n",
    "    # Decide color of the primary groups (n=4) based on number of sub_groups classified as gaps/no-gaps \n",
    "    color_primgroups = list()\n",
    "    prim_group_array = np.zeros(shape=(num_prim_groups, 1))\n",
    "        \n",
    "    # classify primary groups \n",
    "    prim_group_array = np.split(scar_width_percentage, num_prim_groups)\n",
    "    n=0\n",
    "    for i in prim_group_array: \n",
    "        prim_group_array[n] = np.mean(i)\n",
    "        n += 1\n",
    "        \n",
    "    for x in prim_group_array: \n",
    "        if x >= 0.75:\n",
    "            color_primgroups.append('red')\n",
    "        elif x >= 0.5 and x < 0.75:\n",
    "            color_primgroups.append('gold')\n",
    "        elif x >= 0.25 and x < 0.5: \n",
    "            color_primgroups.append('yellow')\n",
    "        elif x > 0 and x < 0.25: \n",
    "            color_primgroups.append('green')\n",
    "        else:\n",
    "            color_primgroups.append('green')   # x == 0\n",
    "        \n",
    "        \n",
    "        \n",
    "    # Make data: I have 3 groups and 7 subgroups\n",
    "    group_names=['Post-Sup (A)', 'Ant-Sup (B)', 'Ant-Inf (C)', 'Post-Inf (D)']\n",
    "    group_size=[1,1,1,1]\n",
    "    subgroup_names=['A1', 'A2', 'A3', 'A4','B1', 'B2', 'B3', 'B4', 'C1', 'C2', 'C3', 'C4', 'D1', 'D2', 'D3', 'D4']\n",
    "    subgroup_size=[1,1,1,1,1,1,1,1,1,1,1,1,1,1,1,1]\n",
    "    \n",
    "    # First Ring (outside)\n",
    "    if no_plot is None:\n",
    "        fig, ax = plt.subplots()\n",
    "        ax.axis('equal')\n",
    "        mypie, _ = ax.pie(group_size, radius=1.3, labels=group_names, colors=color_primgroups )\n",
    "        plt.setp( mypie, width=0.3, edgecolor='white')\n",
    "\n",
    "        # Second Ring (Inside)\n",
    "        mypie2, _ = ax.pie(subgroup_size, radius=1.3-0.3, labels=subgroup_names, labeldistance=0.7, colors=color_subgroups)\n",
    "        plt.setp( mypie2, width=0.4, edgecolor='white')\n",
    "        plt.margins(0,0)\n",
    "\n",
    "        # show it\n",
    "        plt.show()\n",
    "    else: \n",
    "        return total_width_in_each_subgrp\n",
    "    \n",
    "    print (\"Complete widths in each sub-segment\", total_width_in_each_subgrp) \n",
    "    print (\"Scar widths in each sub-segment\", scar_width_in_each_subgrp) \n",
    "\n",
    "# writes the output of circular pie plot to file \n",
    "def WriteCSV(np_array, case_name, filename_csv, append_col=None):\n",
    "    df = pd.DataFrame(np_array)\n",
    "    df_T = df.T\n",
    "    \n",
    "    # an extra column to specify if lpv or rpv\n",
    "    if append_col is not None:\n",
    "        df_T['xcol'] = append_col\n",
    "        cols = df_T.columns.tolist()\n",
    "        df_T = df_T[[cols[-1]] + cols[:-1]]\n",
    "        \n",
    "    df_T['case'] = case_name\n",
    "    cols = df_T.columns.tolist()\n",
    "    df_T = df_T[[cols[-1]] + cols[:-1]] \n",
    "    \n",
    "    with open(filename_csv, 'a') as f:\n",
    "        df_T.to_csv(f, header=False)\n",
    "\n",
    "def ProcessAllCases(about_data_df): \n",
    "    data_path_prefix = './data/encirclement/test_script/'\n",
    "    csv_filename_gaps = './data/encirclement/scar_gaps.csv'\n",
    "    csv_filename_width = './data/encirclement/scar_width.csv'\n",
    "    for index, row in about_data_df.iterrows():\n",
    "        path_to_data = data_path_prefix + row['filename'] + '.csv'\n",
    "        df_data = pd.read_csv(path_to_data)  \n",
    "        df_data_for_gaps = pd.concat([df_data['MainVertexSeq'], df_data['MeshScalar']], axis=1)\n",
    "        scar_gaps = CircularPiePlotScarGap(df_data_for_gaps, row['si'], 'no plot')\n",
    "        scar_width = CircularPiePlotScarWidth(df_data, row['si'], 'no plot')\n",
    "        WriteCSV(scar_gaps, row['case'], csv_filename_gaps, row['lpv'])\n",
    "        WriteCSV(scar_width, row['case'], csv_filename_width, row['lpv'])\n",
    "\n",
    "def unit_vector(vector):\n",
    "    \"\"\" Returns the unit vector of the vector.  \"\"\"\n",
    "    return vector / np.linalg.norm(vector)\n",
    "\n",
    "def angle_between(v1, v2):\n",
    "    \"\"\" Returns the angle in radians between vectors 'v1' and 'v2'::\n",
    "\n",
    "            >>> angle_between((1, 0, 0), (0, 1, 0))\n",
    "            1.5707963267948966\n",
    "            >>> angle_between((1, 0, 0), (1, 0, 0))\n",
    "            0.0\n",
    "            >>> angle_between((1, 0, 0), (-1, 0, 0))\n",
    "            3.141592653589793\n",
    "    \"\"\"\n",
    "    v1_u = unit_vector(v1)\n",
    "    v2_u = unit_vector(v2)\n",
    "#    return np.arccos(np.clip(np.dot(v1_u, v2_u), -1.0, 1.0))\n",
    "    return np.arctan2(LA.norm(np.cross(v1_u, v2_u)), np.dot(v1_u, v2_u))\n",
    "\n",
    "def point_theta(center, A):\n",
    "    thetas = []; \n",
    "    Ref_pt = [A.iloc[0]['X'], A.iloc[0]['Y'], A.iloc[0]['Z']] \n",
    "    Ref_V = np.subtract(Ref_pt, center)\n",
    "    for index, row in A.iterrows():\n",
    "        pt = [row['X'], row['Y'], row['Z']]\n",
    "        pt_V = np.subtract(pt, center)\n",
    "        #theta = angle_between(Ref_pt, pt)\n",
    "        theta = angle_between(Ref_V, pt_V)\n",
    "        theta = theta * 180 / np.pi\n",
    "        thetas.append(theta)\n",
    "    return thetas\n",
    "    "
   ]
  },
  {
   "cell_type": "code",
   "execution_count": null,
   "metadata": {},
   "outputs": [],
   "source": [
    "\n"
   ]
  },
  {
   "cell_type": "code",
   "execution_count": null,
   "metadata": {},
   "outputs": [],
   "source": [
    "''' \n",
    "This function is not complete yet, it tries to compute the distance between each point in the list to its\n",
    "point on the line (vertex depth = v for all points within the same neighbourhood) \n",
    "'''\n",
    "def scar_width(df, threshold):\n",
    "    width = []; \n",
    "    is_scar = []; \n",
    "    #Ref_pt = [A.iloc[0]['X'], A.iloc[0]['Y'], A.iloc[0]['Z']] \n",
    "    \n",
    "    for index, row in df.iterrows():\n",
    "        if row['VertexDepth'] == 0:\n",
    "            pt_on_line = (row['X'], row['Y'], row['Z'])\n",
    "            \n",
    "        pt = (row['X'], row['Y'], row['Z'])\n",
    "        #distance = math.hypot(pt[0]-pt_on_line[0], pt[1]-pt_on_line[1], pt[1]-pt_on_line[1])\n",
    "        distance = math.sqrt((pt[0]-pt_on_line[0])**2 + (pt[1]-pt_on_line[1])**2 + (pt[2]-pt_on_line[2])**2)\n",
    "        \n",
    "        \n",
    "        if row['MeshScalar'] > threshold: \n",
    "            is_scar.append(1) \n",
    "            width.append(distance)\n",
    "        else:\n",
    "            is_scar.append(0)\n",
    "            width.append(0)\n",
    "    \n",
    "    width_df = pd.Series(width, name='scar_width');\n",
    "    is_scar_df = pd.Series(is_scar, name='scar_bin');\n",
    "    \n",
    "    df = pd.concat([df, width_df], axis=1)\n",
    "    df = pd.concat([df, is_scar_df], axis=1)\n",
    "\n",
    "    return df"
   ]
  },
  {
   "cell_type": "code",
   "execution_count": null,
   "metadata": {},
   "outputs": [],
   "source": [
    "df_data_with_thetas_sorted = scar_width(df_data_with_thetas_sorted, 2.2)"
   ]
  },
  {
   "cell_type": "code",
   "execution_count": null,
   "metadata": {},
   "outputs": [],
   "source": [
    "df_data_with_thetas_sorted['MeshScalar'].mean()"
   ]
  },
  {
   "cell_type": "code",
   "execution_count": null,
   "metadata": {},
   "outputs": [],
   "source": [
    "sns.tsplot(pd.rolling_mean(df_data_with_thetas_sorted['scar_bin'],20))"
   ]
  },
  {
   "cell_type": "code",
   "execution_count": null,
   "metadata": {},
   "outputs": [],
   "source": [
    "sns.tsplot(pd.rolling_sum(df_data_with_thetas_sorted['scar_bin'],20))"
   ]
  },
  {
   "cell_type": "code",
   "execution_count": null,
   "metadata": {},
   "outputs": [],
   "source": [
    "sns.tsplot(pd.rolling_mean(df_data_with_thetas_sorted['scar_width'],200)) # Uses mean windowing=100, so 0 widths are smoothed"
   ]
  },
  {
   "cell_type": "code",
   "execution_count": null,
   "metadata": {},
   "outputs": [],
   "source": [
    "# Libraries\n",
    "# See https://python-graph-gallery.com/163-donut-plot-with-subgroups/\n",
    "import matplotlib.pyplot as plt\n",
    " \n",
    "# Make data: I have 3 groups and 7 subgroups\n",
    "group_names=['PostSup', 'PostInf', 'AntSup', 'AntInf']\n",
    "group_size=[1,1,1,1]\n",
    "subgroup_names=['A.1', 'A.2', 'A.3', 'A.4','B.1', 'B.2', 'B.3', 'B.4', 'C.1', 'C.2', 'C.3', 'C.4', 'D.1', 'D.2', 'D.3', 'D.4']\n",
    "subgroup_size=[1,1,1,1,1,1,1,1,1,1,1,1,1,1,1,1]\n",
    " \n",
    "# Create colors\n",
    "a, b, c=[plt.cm.Blues, plt.cm.Reds, plt.cm.Greens]\n",
    " \n",
    "# First Ring (outside)\n",
    "fig, ax = plt.subplots()\n",
    "ax.axis('equal')\n",
    "mypie, _ = ax.pie(group_size, radius=1.3, labels=group_names, colors=[a(0.6), b(0.6), c(0.6)] )\n",
    "plt.setp( mypie, width=0.3, edgecolor='white')\n",
    " \n",
    "# Second Ring (Inside)\n",
    "mypie2, _ = ax.pie(subgroup_size, radius=1.3-0.3, labels=subgroup_names, labeldistance=0.7, colors=[a(0.5), a(0.4), a(0.3), b(0.5), b(0.4), c(0.6), c(0.5), c(0.4), c(0.3), c(0.2)])\n",
    "plt.setp( mypie2, width=0.4, edgecolor='white')\n",
    "plt.margins(0,0)\n",
    " \n",
    "# show it\n",
    "plt.show()\n"
   ]
  },
  {
   "cell_type": "code",
   "execution_count": null,
   "metadata": {},
   "outputs": [],
   "source": [
    "df_data_with_thetas_sorted_nodupes['theta'].hist(bins=20)"
   ]
  },
  {
   "cell_type": "code",
   "execution_count": null,
   "metadata": {},
   "outputs": [],
   "source": [
    "test_array = df_data_with_theta.as_matrix(columns=df_data_with_theta.columns[7:8])"
   ]
  },
  {
   "cell_type": "code",
   "execution_count": null,
   "metadata": {},
   "outputs": [],
   "source": [
    "test_array.shape\n"
   ]
  },
  {
   "cell_type": "code",
   "execution_count": null,
   "metadata": {},
   "outputs": [],
   "source": [
    "2639/12"
   ]
  },
  {
   "cell_type": "code",
   "execution_count": null,
   "metadata": {},
   "outputs": [],
   "source": []
  },
  {
   "cell_type": "code",
   "execution_count": null,
   "metadata": {},
   "outputs": [],
   "source": [
    "scar_grps"
   ]
  }
 ],
 "metadata": {
  "anaconda-cloud": {},
  "kernelspec": {
   "display_name": "Python 3",
   "language": "python",
   "name": "python3"
  },
  "language_info": {
   "codemirror_mode": {
    "name": "ipython",
    "version": 3
   },
   "file_extension": ".py",
   "mimetype": "text/x-python",
   "name": "python",
   "nbconvert_exporter": "python",
   "pygments_lexer": "ipython3",
   "version": "3.7.1"
  }
 },
 "nbformat": 4,
 "nbformat_minor": 1
}
