{
 "cells": [
  {
   "cell_type": "code",
   "execution_count": 2,
   "metadata": {},
   "outputs": [],
   "source": [
    "import pandas as pd\n",
    "import matplotlib.pyplot as plt\n",
    "import seaborn as sns\n",
    "import numpy as np\n",
    "from scipy.stats import norm\n",
    "from sklearn.preprocessing import StandardScaler\n",
    "from scipy import stats\n",
    "from mpl_toolkits.mplot3d import Axes3D\n",
    "from sklearn.model_selection import train_test_split\n",
    "import warnings\n",
    "\n",
    "warnings.filterwarnings('ignore')\n",
    "%matplotlib inline\n"
   ]
  },
  {
   "cell_type": "code",
   "execution_count": 3,
   "metadata": {},
   "outputs": [],
   "source": [
    "df_data = pd.read_csv('./data/encirclement/FV_LPV_circle.csv')"
   ]
  },
  {
   "cell_type": "code",
   "execution_count": 58,
   "metadata": {
    "collapsed": true
   },
   "outputs": [],
   "source": []
  },
  {
   "cell_type": "code",
   "execution_count": 60,
   "metadata": {},
   "outputs": [
    {
     "data": {
      "text/html": [
       "<div>\n",
       "<style>\n",
       "    .dataframe thead tr:only-child th {\n",
       "        text-align: right;\n",
       "    }\n",
       "\n",
       "    .dataframe thead th {\n",
       "        text-align: left;\n",
       "    }\n",
       "\n",
       "    .dataframe tbody tr th {\n",
       "        vertical-align: top;\n",
       "    }\n",
       "</style>\n",
       "<table border=\"1\" class=\"dataframe\">\n",
       "  <thead>\n",
       "    <tr style=\"text-align: right;\">\n",
       "      <th></th>\n",
       "      <th>MainVertexSeq</th>\n",
       "      <th>VertexID</th>\n",
       "      <th>X</th>\n",
       "      <th>Y</th>\n",
       "      <th>Z</th>\n",
       "      <th>VertexDepth</th>\n",
       "      <th>MeshScalar</th>\n",
       "    </tr>\n",
       "  </thead>\n",
       "  <tbody>\n",
       "    <tr>\n",
       "      <th>count</th>\n",
       "      <td>2035.000000</td>\n",
       "      <td>2035.000000</td>\n",
       "      <td>2035.000000</td>\n",
       "      <td>2035.000000</td>\n",
       "      <td>2035.000000</td>\n",
       "      <td>2035.000000</td>\n",
       "      <td>2035.000000</td>\n",
       "    </tr>\n",
       "    <tr>\n",
       "      <th>mean</th>\n",
       "      <td>57.677641</td>\n",
       "      <td>12073.156757</td>\n",
       "      <td>28.348870</td>\n",
       "      <td>32.172139</td>\n",
       "      <td>23.196058</td>\n",
       "      <td>1.226536</td>\n",
       "      <td>120.023080</td>\n",
       "    </tr>\n",
       "    <tr>\n",
       "      <th>std</th>\n",
       "      <td>34.134563</td>\n",
       "      <td>2753.326448</td>\n",
       "      <td>10.934123</td>\n",
       "      <td>6.797948</td>\n",
       "      <td>7.762541</td>\n",
       "      <td>0.638246</td>\n",
       "      <td>22.607108</td>\n",
       "    </tr>\n",
       "    <tr>\n",
       "      <th>min</th>\n",
       "      <td>0.000000</td>\n",
       "      <td>7928.000000</td>\n",
       "      <td>10.662000</td>\n",
       "      <td>20.553300</td>\n",
       "      <td>10.070100</td>\n",
       "      <td>0.000000</td>\n",
       "      <td>0.000000</td>\n",
       "    </tr>\n",
       "    <tr>\n",
       "      <th>25%</th>\n",
       "      <td>28.000000</td>\n",
       "      <td>9287.500000</td>\n",
       "      <td>17.399000</td>\n",
       "      <td>25.450300</td>\n",
       "      <td>15.544900</td>\n",
       "      <td>1.000000</td>\n",
       "      <td>112.167000</td>\n",
       "    </tr>\n",
       "    <tr>\n",
       "      <th>50%</th>\n",
       "      <td>57.000000</td>\n",
       "      <td>11885.000000</td>\n",
       "      <td>28.700500</td>\n",
       "      <td>32.461600</td>\n",
       "      <td>23.129700</td>\n",
       "      <td>1.000000</td>\n",
       "      <td>122.833000</td>\n",
       "    </tr>\n",
       "    <tr>\n",
       "      <th>75%</th>\n",
       "      <td>87.000000</td>\n",
       "      <td>14401.000000</td>\n",
       "      <td>39.200200</td>\n",
       "      <td>39.203600</td>\n",
       "      <td>30.727050</td>\n",
       "      <td>1.000000</td>\n",
       "      <td>133.143000</td>\n",
       "    </tr>\n",
       "    <tr>\n",
       "      <th>max</th>\n",
       "      <td>117.000000</td>\n",
       "      <td>16517.000000</td>\n",
       "      <td>46.666900</td>\n",
       "      <td>41.712200</td>\n",
       "      <td>34.601800</td>\n",
       "      <td>3.000000</td>\n",
       "      <td>161.714000</td>\n",
       "    </tr>\n",
       "  </tbody>\n",
       "</table>\n",
       "</div>"
      ],
      "text/plain": [
       "       MainVertexSeq      VertexID            X            Y            Z  \\\n",
       "count    2035.000000   2035.000000  2035.000000  2035.000000  2035.000000   \n",
       "mean       57.677641  12073.156757    28.348870    32.172139    23.196058   \n",
       "std        34.134563   2753.326448    10.934123     6.797948     7.762541   \n",
       "min         0.000000   7928.000000    10.662000    20.553300    10.070100   \n",
       "25%        28.000000   9287.500000    17.399000    25.450300    15.544900   \n",
       "50%        57.000000  11885.000000    28.700500    32.461600    23.129700   \n",
       "75%        87.000000  14401.000000    39.200200    39.203600    30.727050   \n",
       "max       117.000000  16517.000000    46.666900    41.712200    34.601800   \n",
       "\n",
       "       VertexDepth   MeshScalar  \n",
       "count  2035.000000  2035.000000  \n",
       "mean      1.226536   120.023080  \n",
       "std       0.638246    22.607108  \n",
       "min       0.000000     0.000000  \n",
       "25%       1.000000   112.167000  \n",
       "50%       1.000000   122.833000  \n",
       "75%       1.000000   133.143000  \n",
       "max       3.000000   161.714000  "
      ]
     },
     "execution_count": 60,
     "metadata": {},
     "output_type": "execute_result"
    }
   ],
   "source": [
    "df_data.describe()"
   ]
  },
  {
   "cell_type": "code",
   "execution_count": 61,
   "metadata": {},
   "outputs": [
    {
     "data": {
      "image/png": "[encoded data removed]",
      "text/plain": [
       "<matplotlib.figure.Figure at 0xdb78940>"
      ]
     },
     "metadata": {},
     "output_type": "display_data"
    }
   ],
   "source": [
    "fig = plt.figure()\n",
    "ax = Axes3D(fig)\n",
    "ax.scatter(df_data['X'], df_data['Y'], df_data['Z'])\n",
    "plt.show()"
   ]
  },
  {
   "cell_type": "code",
   "execution_count": null,
   "metadata": {},
   "outputs": [],
   "source": [
    "df_data_scalars = pd.concat([df_data['MainVertexSeq'], df_data['MeshScalar']], axis=1)"
   ]
  },
  {
   "cell_type": "code",
   "execution_count": 64,
   "metadata": {},
   "outputs": [
    {
     "data": {
      "image/png": "[encoded data removed]",
      "text/plain": [
       "<matplotlib.figure.Figure at 0xdb31278>"
      ]
     },
     "metadata": {},
     "output_type": "display_data"
    }
   ],
   "source": [
    "ax = sns.boxplot(x=\"MainVertexSeq\", y=\"MeshScalar\", data=df_data_scalars)"
   ]
  },
  {
   "cell_type": "code",
   "execution_count": 67,
   "metadata": {},
   "outputs": [],
   "source": [
    "g1 = df_data.groupby(['MainVertexSeq']).median()\n",
    "g1 = g1.reset_index()"
   ]
  },
  {
   "cell_type": "code",
   "execution_count": 68,
   "metadata": {},
   "outputs": [
    {
     "data": {
      "text/html": [
       "<div>\n",
       "<style>\n",
       "    .dataframe thead tr:only-child th {\n",
       "        text-align: right;\n",
       "    }\n",
       "\n",
       "    .dataframe thead th {\n",
       "        text-align: left;\n",
       "    }\n",
       "\n",
       "    .dataframe tbody tr th {\n",
       "        vertical-align: top;\n",
       "    }\n",
       "</style>\n",
       "<table border=\"1\" class=\"dataframe\">\n",
       "  <thead>\n",
       "    <tr style=\"text-align: right;\">\n",
       "      <th></th>\n",
       "      <th>MainVertexSeq</th>\n",
       "      <th>VertexID</th>\n",
       "      <th>X</th>\n",
       "      <th>Y</th>\n",
       "      <th>Z</th>\n",
       "      <th>VertexDepth</th>\n",
       "      <th>MeshScalar</th>\n",
       "    </tr>\n",
       "  </thead>\n",
       "  <tbody>\n",
       "    <tr>\n",
       "      <th>0</th>\n",
       "      <td>0</td>\n",
       "      <td>8193.0</td>\n",
       "      <td>31.1068</td>\n",
       "      <td>39.8702</td>\n",
       "      <td>11.5681</td>\n",
       "      <td>1.0</td>\n",
       "      <td>148.167</td>\n",
       "    </tr>\n",
       "    <tr>\n",
       "      <th>1</th>\n",
       "      <td>1</td>\n",
       "      <td>8452.0</td>\n",
       "      <td>37.0817</td>\n",
       "      <td>37.0955</td>\n",
       "      <td>12.2195</td>\n",
       "      <td>1.0</td>\n",
       "      <td>129.800</td>\n",
       "    </tr>\n",
       "  </tbody>\n",
       "</table>\n",
       "</div>"
      ],
      "text/plain": [
       "   MainVertexSeq  VertexID        X        Y        Z  VertexDepth  MeshScalar\n",
       "0              0    8193.0  31.1068  39.8702  11.5681          1.0     148.167\n",
       "1              1    8452.0  37.0817  37.0955  12.2195          1.0     129.800"
      ]
     },
     "execution_count": 68,
     "metadata": {},
     "output_type": "execute_result"
    }
   ],
   "source": [
    "g1.head(2)"
   ]
  },
  {
   "cell_type": "code",
   "execution_count": 70,
   "metadata": {},
   "outputs": [
    {
     "data": {
      "image/png": "[encoded data removed]",
      "text/plain": [
       "<matplotlib.figure.Figure at 0xbd9bd30>"
      ]
     },
     "metadata": {},
     "output_type": "display_data"
    }
   ],
   "source": [
    "ax = sns.tsplot(data=g1['MeshScalar'])"
   ]
  },
  {
   "cell_type": "code",
   "execution_count": 9,
   "metadata": {
    "collapsed": true
   },
   "outputs": [],
   "source": [
    "center_data = [df_data['X'].mean(), df_data['Y'].mean(), df_data['Z'].mean()]"
   ]
  },
  {
   "cell_type": "code",
   "execution_count": 9,
   "metadata": {},
   "outputs": [
    {
     "data": {
      "text/plain": [
       "[28.348869926289929, 32.172139213759216, 23.196058427518427]"
      ]
     },
     "execution_count": 9,
     "metadata": {},
     "output_type": "execute_result"
    }
   ],
   "source": [
    "center_data"
   ]
  },
  {
   "cell_type": "code",
   "execution_count": 4,
   "metadata": {},
   "outputs": [],
   "source": [
    "df_data_scalars = pd.concat([df_data['MainVertexSeq'], df_data['MeshScalar']], axis=1)"
   ]
  },
  {
   "cell_type": "code",
   "execution_count": 5,
   "metadata": {
    "collapsed": true
   },
   "outputs": [],
   "source": [
    "g1 = df_data.groupby(['MainVertexSeq']).median()\n",
    "g1 = g1.reset_index()"
   ]
  },
  {
   "cell_type": "code",
   "execution_count": null,
   "metadata": {},
   "outputs": [],
   "source": [
    "ax = sns.tsplot(data=g1['MeshScalar'])"
   ]
  },
  {
   "cell_type": "code",
   "execution_count": 6,
   "metadata": {
    "collapsed": true
   },
   "outputs": [],
   "source": [
    "def unit_vector(vector):\n",
    "    \"\"\" Returns the unit vector of the vector.  \"\"\"\n",
    "    return vector / np.linalg.norm(vector)\n",
    "\n",
    "def angle_between(v1, v2):\n",
    "    \"\"\" Returns the angle in radians between vectors 'v1' and 'v2'::\n",
    "\n",
    "            >>> angle_between((1, 0, 0), (0, 1, 0))\n",
    "            1.5707963267948966\n",
    "            >>> angle_between((1, 0, 0), (1, 0, 0))\n",
    "            0.0\n",
    "            >>> angle_between((1, 0, 0), (-1, 0, 0))\n",
    "            3.141592653589793\n",
    "    \"\"\"\n",
    "    v1_u = unit_vector(v1)\n",
    "    v2_u = unit_vector(v2)\n",
    "    return np.arccos(np.clip(np.dot(v1_u, v2_u), -1.0, 1.0))"
   ]
  },
  {
   "cell_type": "code",
   "execution_count": 7,
   "metadata": {
    "collapsed": true
   },
   "outputs": [],
   "source": [
    "def point_theta(center, A):\n",
    "    thetas = []; \n",
    "    Ref_pt = [A.iloc[0]['X'], A.iloc[0]['Y'], A.iloc[0]['Z']] \n",
    "    for index, row in A.iterrows():\n",
    "        pt = [row['X'], row['Y'], row['Z']]\n",
    "        theta = angle_between(Ref_pt, pt)\n",
    "        thetas.append(theta)\n",
    "    return thetas\n"
   ]
  },
  {
   "cell_type": "code",
   "execution_count": 10,
   "metadata": {},
   "outputs": [],
   "source": [
    "thetas = point_theta(center_data, df_data)"
   ]
  },
  {
   "cell_type": "code",
   "execution_count": 11,
   "metadata": {},
   "outputs": [],
   "source": [
    "thetas_df = pd.Series(thetas, name='theta');"
   ]
  },
  {
   "cell_type": "code",
   "execution_count": 12,
   "metadata": {},
   "outputs": [],
   "source": [
    "df_data_with_theta = pd.concat([df_data, thetas_df], axis=1)"
   ]
  },
  {
   "cell_type": "code",
   "execution_count": 15,
   "metadata": {},
   "outputs": [
    {
     "data": {
      "text/plain": [
       "<matplotlib.axes._subplots.AxesSubplot at 0xa8f2828>"
      ]
     },
     "execution_count": 15,
     "metadata": {},
     "output_type": "execute_result"
    },
    {
     "data": {
      "image/png": "[encoded data removed]",
      "text/plain": [
       "<matplotlib.figure.Figure at 0xa474ef0>"
      ]
     },
     "metadata": {},
     "output_type": "display_data"
    }
   ],
   "source": [
    "sns.tsplot(df_data_with_theta['theta'])"
   ]
  },
  {
   "cell_type": "code",
   "execution_count": 16,
   "metadata": {},
   "outputs": [],
   "source": [
    "df_data_with_thetas_sorted = df_data_with_theta.sort_values(by='theta')"
   ]
  },
  {
   "cell_type": "code",
   "execution_count": 17,
   "metadata": {},
   "outputs": [
    {
     "data": {
      "text/html": [
       "<div>\n",
       "<style>\n",
       "    .dataframe thead tr:only-child th {\n",
       "        text-align: right;\n",
       "    }\n",
       "\n",
       "    .dataframe thead th {\n",
       "        text-align: left;\n",
       "    }\n",
       "\n",
       "    .dataframe tbody tr th {\n",
       "        vertical-align: top;\n",
       "    }\n",
       "</style>\n",
       "<table border=\"1\" class=\"dataframe\">\n",
       "  <thead>\n",
       "    <tr style=\"text-align: right;\">\n",
       "      <th></th>\n",
       "      <th>MainVertexSeq</th>\n",
       "      <th>VertexID</th>\n",
       "      <th>X</th>\n",
       "      <th>Y</th>\n",
       "      <th>Z</th>\n",
       "      <th>VertexDepth</th>\n",
       "      <th>MeshScalar</th>\n",
       "      <th>theta</th>\n",
       "    </tr>\n",
       "  </thead>\n",
       "  <tbody>\n",
       "    <tr>\n",
       "      <th>0</th>\n",
       "      <td>0</td>\n",
       "      <td>8193</td>\n",
       "      <td>31.2629</td>\n",
       "      <td>39.8702</td>\n",
       "      <td>11.5736</td>\n",
       "      <td>0</td>\n",
       "      <td>154.000</td>\n",
       "      <td>0.000000</td>\n",
       "    </tr>\n",
       "    <tr>\n",
       "      <th>1</th>\n",
       "      <td>0</td>\n",
       "      <td>8193</td>\n",
       "      <td>31.2629</td>\n",
       "      <td>39.8702</td>\n",
       "      <td>11.5736</td>\n",
       "      <td>3</td>\n",
       "      <td>154.000</td>\n",
       "      <td>0.000000</td>\n",
       "    </tr>\n",
       "    <tr>\n",
       "      <th>87</th>\n",
       "      <td>5</td>\n",
       "      <td>8193</td>\n",
       "      <td>31.2629</td>\n",
       "      <td>39.8702</td>\n",
       "      <td>11.5736</td>\n",
       "      <td>1</td>\n",
       "      <td>154.000</td>\n",
       "      <td>0.000000</td>\n",
       "    </tr>\n",
       "    <tr>\n",
       "      <th>150</th>\n",
       "      <td>9</td>\n",
       "      <td>8193</td>\n",
       "      <td>31.2629</td>\n",
       "      <td>39.8702</td>\n",
       "      <td>11.5736</td>\n",
       "      <td>2</td>\n",
       "      <td>154.000</td>\n",
       "      <td>0.000000</td>\n",
       "    </tr>\n",
       "    <tr>\n",
       "      <th>136</th>\n",
       "      <td>8</td>\n",
       "      <td>8193</td>\n",
       "      <td>31.2629</td>\n",
       "      <td>39.8702</td>\n",
       "      <td>11.5736</td>\n",
       "      <td>1</td>\n",
       "      <td>154.000</td>\n",
       "      <td>0.000000</td>\n",
       "    </tr>\n",
       "    <tr>\n",
       "      <th>153</th>\n",
       "      <td>9</td>\n",
       "      <td>8194</td>\n",
       "      <td>31.8162</td>\n",
       "      <td>39.7653</td>\n",
       "      <td>11.1467</td>\n",
       "      <td>1</td>\n",
       "      <td>143.800</td>\n",
       "      <td>0.013216</td>\n",
       "    </tr>\n",
       "    <tr>\n",
       "      <th>88</th>\n",
       "      <td>5</td>\n",
       "      <td>8194</td>\n",
       "      <td>31.8162</td>\n",
       "      <td>39.7653</td>\n",
       "      <td>11.1467</td>\n",
       "      <td>1</td>\n",
       "      <td>143.800</td>\n",
       "      <td>0.013216</td>\n",
       "    </tr>\n",
       "    <tr>\n",
       "      <th>140</th>\n",
       "      <td>8</td>\n",
       "      <td>8194</td>\n",
       "      <td>31.8162</td>\n",
       "      <td>39.7653</td>\n",
       "      <td>11.1467</td>\n",
       "      <td>1</td>\n",
       "      <td>143.800</td>\n",
       "      <td>0.013216</td>\n",
       "    </tr>\n",
       "    <tr>\n",
       "      <th>9</th>\n",
       "      <td>0</td>\n",
       "      <td>8194</td>\n",
       "      <td>31.8162</td>\n",
       "      <td>39.7653</td>\n",
       "      <td>11.1467</td>\n",
       "      <td>2</td>\n",
       "      <td>143.800</td>\n",
       "      <td>0.013216</td>\n",
       "    </tr>\n",
       "    <tr>\n",
       "      <th>151</th>\n",
       "      <td>9</td>\n",
       "      <td>8192</td>\n",
       "      <td>30.4649</td>\n",
       "      <td>40.1000</td>\n",
       "      <td>11.5681</td>\n",
       "      <td>1</td>\n",
       "      <td>159.429</td>\n",
       "      <td>0.014949</td>\n",
       "    </tr>\n",
       "  </tbody>\n",
       "</table>\n",
       "</div>"
      ],
      "text/plain": [
       "     MainVertexSeq  VertexID        X        Y        Z  VertexDepth  \\\n",
       "0                0      8193  31.2629  39.8702  11.5736            0   \n",
       "1                0      8193  31.2629  39.8702  11.5736            3   \n",
       "87               5      8193  31.2629  39.8702  11.5736            1   \n",
       "150              9      8193  31.2629  39.8702  11.5736            2   \n",
       "136              8      8193  31.2629  39.8702  11.5736            1   \n",
       "153              9      8194  31.8162  39.7653  11.1467            1   \n",
       "88               5      8194  31.8162  39.7653  11.1467            1   \n",
       "140              8      8194  31.8162  39.7653  11.1467            1   \n",
       "9                0      8194  31.8162  39.7653  11.1467            2   \n",
       "151              9      8192  30.4649  40.1000  11.5681            1   \n",
       "\n",
       "     MeshScalar     theta  \n",
       "0       154.000  0.000000  \n",
       "1       154.000  0.000000  \n",
       "87      154.000  0.000000  \n",
       "150     154.000  0.000000  \n",
       "136     154.000  0.000000  \n",
       "153     143.800  0.013216  \n",
       "88      143.800  0.013216  \n",
       "140     143.800  0.013216  \n",
       "9       143.800  0.013216  \n",
       "151     159.429  0.014949  "
      ]
     },
     "execution_count": 17,
     "metadata": {},
     "output_type": "execute_result"
    }
   ],
   "source": [
    "df_data_with_thetas_sorted.head(10)"
   ]
  },
  {
   "cell_type": "code",
   "execution_count": 18,
   "metadata": {},
   "outputs": [
    {
     "data": {
      "text/plain": [
       "<matplotlib.axes._subplots.AxesSubplot at 0xfc3ce48>"
      ]
     },
     "execution_count": 18,
     "metadata": {},
     "output_type": "execute_result"
    },
    {
     "data": {
      "image/png": "[encoded data removed]",
      "text/plain": [
       "<matplotlib.figure.Figure at 0xfc4e860>"
      ]
     },
     "metadata": {},
     "output_type": "display_data"
    }
   ],
   "source": [
    "sns.tsplot(df_data_with_thetas_sorted['theta'])"
   ]
  },
  {
   "cell_type": "code",
   "execution_count": null,
   "metadata": {
    "collapsed": true
   },
   "outputs": [],
   "source": []
  },
  {
   "cell_type": "code",
   "execution_count": 19,
   "metadata": {},
   "outputs": [
    {
     "data": {
      "text/plain": [
       "<matplotlib.axes._subplots.AxesSubplot at 0xfc76710>"
      ]
     },
     "execution_count": 19,
     "metadata": {},
     "output_type": "execute_result"
    },
    {
     "data": {
      "image/png": "[encoded data removed]",
      "text/plain": [
       "<matplotlib.figure.Figure at 0xfce22e8>"
      ]
     },
     "metadata": {},
     "output_type": "display_data"
    }
   ],
   "source": [
    "sns.tsplot(df_data_with_thetas_sorted['MeshScalar'])"
   ]
  },
  {
   "cell_type": "code",
   "execution_count": null,
   "metadata": {
    "collapsed": true
   },
   "outputs": [],
   "source": []
  },
  {
   "cell_type": "code",
   "execution_count": 20,
   "metadata": {},
   "outputs": [
    {
     "data": {
      "text/html": [
       "<div>\n",
       "<style>\n",
       "    .dataframe thead tr:only-child th {\n",
       "        text-align: right;\n",
       "    }\n",
       "\n",
       "    .dataframe thead th {\n",
       "        text-align: left;\n",
       "    }\n",
       "\n",
       "    .dataframe tbody tr th {\n",
       "        vertical-align: top;\n",
       "    }\n",
       "</style>\n",
       "<table border=\"1\" class=\"dataframe\">\n",
       "  <thead>\n",
       "    <tr style=\"text-align: right;\">\n",
       "      <th></th>\n",
       "      <th>MainVertexSeq</th>\n",
       "      <th>VertexID</th>\n",
       "      <th>X</th>\n",
       "      <th>Y</th>\n",
       "      <th>Z</th>\n",
       "      <th>VertexDepth</th>\n",
       "      <th>MeshScalar</th>\n",
       "      <th>theta</th>\n",
       "    </tr>\n",
       "  </thead>\n",
       "  <tbody>\n",
       "    <tr>\n",
       "      <th>0</th>\n",
       "      <td>0</td>\n",
       "      <td>8193</td>\n",
       "      <td>31.2629</td>\n",
       "      <td>39.8702</td>\n",
       "      <td>11.5736</td>\n",
       "      <td>0</td>\n",
       "      <td>154.000</td>\n",
       "      <td>0.000000</td>\n",
       "    </tr>\n",
       "    <tr>\n",
       "      <th>1</th>\n",
       "      <td>0</td>\n",
       "      <td>8193</td>\n",
       "      <td>31.2629</td>\n",
       "      <td>39.8702</td>\n",
       "      <td>11.5736</td>\n",
       "      <td>3</td>\n",
       "      <td>154.000</td>\n",
       "      <td>0.000000</td>\n",
       "    </tr>\n",
       "    <tr>\n",
       "      <th>87</th>\n",
       "      <td>5</td>\n",
       "      <td>8193</td>\n",
       "      <td>31.2629</td>\n",
       "      <td>39.8702</td>\n",
       "      <td>11.5736</td>\n",
       "      <td>1</td>\n",
       "      <td>154.000</td>\n",
       "      <td>0.000000</td>\n",
       "    </tr>\n",
       "    <tr>\n",
       "      <th>150</th>\n",
       "      <td>9</td>\n",
       "      <td>8193</td>\n",
       "      <td>31.2629</td>\n",
       "      <td>39.8702</td>\n",
       "      <td>11.5736</td>\n",
       "      <td>2</td>\n",
       "      <td>154.000</td>\n",
       "      <td>0.000000</td>\n",
       "    </tr>\n",
       "    <tr>\n",
       "      <th>136</th>\n",
       "      <td>8</td>\n",
       "      <td>8193</td>\n",
       "      <td>31.2629</td>\n",
       "      <td>39.8702</td>\n",
       "      <td>11.5736</td>\n",
       "      <td>1</td>\n",
       "      <td>154.000</td>\n",
       "      <td>0.000000</td>\n",
       "    </tr>\n",
       "    <tr>\n",
       "      <th>153</th>\n",
       "      <td>9</td>\n",
       "      <td>8194</td>\n",
       "      <td>31.8162</td>\n",
       "      <td>39.7653</td>\n",
       "      <td>11.1467</td>\n",
       "      <td>1</td>\n",
       "      <td>143.800</td>\n",
       "      <td>0.013216</td>\n",
       "    </tr>\n",
       "    <tr>\n",
       "      <th>88</th>\n",
       "      <td>5</td>\n",
       "      <td>8194</td>\n",
       "      <td>31.8162</td>\n",
       "      <td>39.7653</td>\n",
       "      <td>11.1467</td>\n",
       "      <td>1</td>\n",
       "      <td>143.800</td>\n",
       "      <td>0.013216</td>\n",
       "    </tr>\n",
       "    <tr>\n",
       "      <th>140</th>\n",
       "      <td>8</td>\n",
       "      <td>8194</td>\n",
       "      <td>31.8162</td>\n",
       "      <td>39.7653</td>\n",
       "      <td>11.1467</td>\n",
       "      <td>1</td>\n",
       "      <td>143.800</td>\n",
       "      <td>0.013216</td>\n",
       "    </tr>\n",
       "    <tr>\n",
       "      <th>9</th>\n",
       "      <td>0</td>\n",
       "      <td>8194</td>\n",
       "      <td>31.8162</td>\n",
       "      <td>39.7653</td>\n",
       "      <td>11.1467</td>\n",
       "      <td>2</td>\n",
       "      <td>143.800</td>\n",
       "      <td>0.013216</td>\n",
       "    </tr>\n",
       "    <tr>\n",
       "      <th>151</th>\n",
       "      <td>9</td>\n",
       "      <td>8192</td>\n",
       "      <td>30.4649</td>\n",
       "      <td>40.1000</td>\n",
       "      <td>11.5681</td>\n",
       "      <td>1</td>\n",
       "      <td>159.429</td>\n",
       "      <td>0.014949</td>\n",
       "    </tr>\n",
       "    <tr>\n",
       "      <th>132</th>\n",
       "      <td>8</td>\n",
       "      <td>8192</td>\n",
       "      <td>30.4649</td>\n",
       "      <td>40.1000</td>\n",
       "      <td>11.5681</td>\n",
       "      <td>2</td>\n",
       "      <td>159.429</td>\n",
       "      <td>0.014949</td>\n",
       "    </tr>\n",
       "    <tr>\n",
       "      <th>2</th>\n",
       "      <td>0</td>\n",
       "      <td>8192</td>\n",
       "      <td>30.4649</td>\n",
       "      <td>40.1000</td>\n",
       "      <td>11.5681</td>\n",
       "      <td>2</td>\n",
       "      <td>159.429</td>\n",
       "      <td>0.014949</td>\n",
       "    </tr>\n",
       "    <tr>\n",
       "      <th>279</th>\n",
       "      <td>15</td>\n",
       "      <td>8192</td>\n",
       "      <td>30.4649</td>\n",
       "      <td>40.1000</td>\n",
       "      <td>11.5681</td>\n",
       "      <td>1</td>\n",
       "      <td>159.429</td>\n",
       "      <td>0.014949</td>\n",
       "    </tr>\n",
       "    <tr>\n",
       "      <th>131</th>\n",
       "      <td>8</td>\n",
       "      <td>8462</td>\n",
       "      <td>31.1068</td>\n",
       "      <td>39.8279</td>\n",
       "      <td>12.3800</td>\n",
       "      <td>3</td>\n",
       "      <td>148.167</td>\n",
       "      <td>0.015775</td>\n",
       "    </tr>\n",
       "    <tr>\n",
       "      <th>130</th>\n",
       "      <td>8</td>\n",
       "      <td>8462</td>\n",
       "      <td>31.1068</td>\n",
       "      <td>39.8279</td>\n",
       "      <td>12.3800</td>\n",
       "      <td>0</td>\n",
       "      <td>148.167</td>\n",
       "      <td>0.015775</td>\n",
       "    </tr>\n",
       "  </tbody>\n",
       "</table>\n",
       "</div>"
      ],
      "text/plain": [
       "     MainVertexSeq  VertexID        X        Y        Z  VertexDepth  \\\n",
       "0                0      8193  31.2629  39.8702  11.5736            0   \n",
       "1                0      8193  31.2629  39.8702  11.5736            3   \n",
       "87               5      8193  31.2629  39.8702  11.5736            1   \n",
       "150              9      8193  31.2629  39.8702  11.5736            2   \n",
       "136              8      8193  31.2629  39.8702  11.5736            1   \n",
       "153              9      8194  31.8162  39.7653  11.1467            1   \n",
       "88               5      8194  31.8162  39.7653  11.1467            1   \n",
       "140              8      8194  31.8162  39.7653  11.1467            1   \n",
       "9                0      8194  31.8162  39.7653  11.1467            2   \n",
       "151              9      8192  30.4649  40.1000  11.5681            1   \n",
       "132              8      8192  30.4649  40.1000  11.5681            2   \n",
       "2                0      8192  30.4649  40.1000  11.5681            2   \n",
       "279             15      8192  30.4649  40.1000  11.5681            1   \n",
       "131              8      8462  31.1068  39.8279  12.3800            3   \n",
       "130              8      8462  31.1068  39.8279  12.3800            0   \n",
       "\n",
       "     MeshScalar     theta  \n",
       "0       154.000  0.000000  \n",
       "1       154.000  0.000000  \n",
       "87      154.000  0.000000  \n",
       "150     154.000  0.000000  \n",
       "136     154.000  0.000000  \n",
       "153     143.800  0.013216  \n",
       "88      143.800  0.013216  \n",
       "140     143.800  0.013216  \n",
       "9       143.800  0.013216  \n",
       "151     159.429  0.014949  \n",
       "132     159.429  0.014949  \n",
       "2       159.429  0.014949  \n",
       "279     159.429  0.014949  \n",
       "131     148.167  0.015775  \n",
       "130     148.167  0.015775  "
      ]
     },
     "execution_count": 20,
     "metadata": {},
     "output_type": "execute_result"
    }
   ],
   "source": [
    "df_data_with_thetas_sorted.head(15)"
   ]
  },
  {
   "cell_type": "code",
   "execution_count": null,
   "metadata": {
    "collapsed": true
   },
   "outputs": [],
   "source": []
  },
  {
   "cell_type": "code",
   "execution_count": 21,
   "metadata": {},
   "outputs": [],
   "source": [
    "df_data_with_thetas_sorted_nodupes = df_data_with_thetas_sorted.drop_duplicates(subset='VertexID', keep='last');"
   ]
  },
  {
   "cell_type": "code",
   "execution_count": null,
   "metadata": {
    "collapsed": true
   },
   "outputs": [],
   "source": []
  },
  {
   "cell_type": "code",
   "execution_count": null,
   "metadata": {
    "collapsed": true
   },
   "outputs": [],
   "source": []
  },
  {
   "cell_type": "code",
   "execution_count": null,
   "metadata": {
    "collapsed": true
   },
   "outputs": [],
   "source": []
  },
  {
   "cell_type": "code",
   "execution_count": 26,
   "metadata": {},
   "outputs": [
    {
     "data": {
      "text/plain": [
       "<matplotlib.axes._subplots.AxesSubplot at 0xa51cc18>"
      ]
     },
     "execution_count": 26,
     "metadata": {},
     "output_type": "execute_result"
    },
    {
     "data": {
      "image/png": "[encoded data removed]",
      "text/plain": [
       "<matplotlib.figure.Figure at 0xa530160>"
      ]
     },
     "metadata": {},
     "output_type": "display_data"
    }
   ],
   "source": [
    "sns.tsplot(pd.rolling_mean(df_data_with_thetas_sorted_nodupes['MeshScalar'],20))"
   ]
  },
  {
   "cell_type": "code",
   "execution_count": null,
   "metadata": {
    "collapsed": true
   },
   "outputs": [],
   "source": []
  },
  {
   "cell_type": "code",
   "execution_count": null,
   "metadata": {
    "collapsed": true
   },
   "outputs": [],
   "source": []
  },
  {
   "cell_type": "code",
   "execution_count": null,
   "metadata": {
    "collapsed": true
   },
   "outputs": [],
   "source": []
  },
  {
   "cell_type": "code",
   "execution_count": null,
   "metadata": {
    "collapsed": true
   },
   "outputs": [],
   "source": []
  },
  {
   "cell_type": "code",
   "execution_count": null,
   "metadata": {
    "collapsed": true
   },
   "outputs": [],
   "source": []
  },
  {
   "cell_type": "code",
   "execution_count": 23,
   "metadata": {},
   "outputs": [
    {
     "data": {
      "text/html": [
       "<div>\n",
       "<style>\n",
       "    .dataframe thead tr:only-child th {\n",
       "        text-align: right;\n",
       "    }\n",
       "\n",
       "    .dataframe thead th {\n",
       "        text-align: left;\n",
       "    }\n",
       "\n",
       "    .dataframe tbody tr th {\n",
       "        vertical-align: top;\n",
       "    }\n",
       "</style>\n",
       "<table border=\"1\" class=\"dataframe\">\n",
       "  <thead>\n",
       "    <tr style=\"text-align: right;\">\n",
       "      <th></th>\n",
       "      <th>MainVertexSeq</th>\n",
       "      <th>VertexID</th>\n",
       "      <th>X</th>\n",
       "      <th>Y</th>\n",
       "      <th>Z</th>\n",
       "      <th>VertexDepth</th>\n",
       "      <th>MeshScalar</th>\n",
       "      <th>theta</th>\n",
       "    </tr>\n",
       "  </thead>\n",
       "  <tbody>\n",
       "    <tr>\n",
       "      <th>count</th>\n",
       "      <td>613.000000</td>\n",
       "      <td>613.000000</td>\n",
       "      <td>613.000000</td>\n",
       "      <td>613.000000</td>\n",
       "      <td>613.000000</td>\n",
       "      <td>613.000000</td>\n",
       "      <td>613.000000</td>\n",
       "      <td>613.000000</td>\n",
       "    </tr>\n",
       "    <tr>\n",
       "      <th>mean</th>\n",
       "      <td>57.057096</td>\n",
       "      <td>12029.523654</td>\n",
       "      <td>28.529352</td>\n",
       "      <td>32.181743</td>\n",
       "      <td>23.058631</td>\n",
       "      <td>1.137031</td>\n",
       "      <td>119.537921</td>\n",
       "      <td>0.363743</td>\n",
       "    </tr>\n",
       "    <tr>\n",
       "      <th>std</th>\n",
       "      <td>34.338068</td>\n",
       "      <td>2784.914748</td>\n",
       "      <td>10.922083</td>\n",
       "      <td>6.817273</td>\n",
       "      <td>7.868748</td>\n",
       "      <td>0.505669</td>\n",
       "      <td>22.865332</td>\n",
       "      <td>0.177723</td>\n",
       "    </tr>\n",
       "    <tr>\n",
       "      <th>min</th>\n",
       "      <td>0.000000</td>\n",
       "      <td>7928.000000</td>\n",
       "      <td>10.662000</td>\n",
       "      <td>20.553300</td>\n",
       "      <td>10.070100</td>\n",
       "      <td>0.000000</td>\n",
       "      <td>0.000000</td>\n",
       "      <td>0.000000</td>\n",
       "    </tr>\n",
       "    <tr>\n",
       "      <th>25%</th>\n",
       "      <td>27.000000</td>\n",
       "      <td>9263.000000</td>\n",
       "      <td>17.670700</td>\n",
       "      <td>25.330600</td>\n",
       "      <td>15.281500</td>\n",
       "      <td>1.000000</td>\n",
       "      <td>112.143000</td>\n",
       "      <td>0.214769</td>\n",
       "    </tr>\n",
       "    <tr>\n",
       "      <th>50%</th>\n",
       "      <td>57.000000</td>\n",
       "      <td>11798.000000</td>\n",
       "      <td>28.897200</td>\n",
       "      <td>32.793800</td>\n",
       "      <td>23.073600</td>\n",
       "      <td>1.000000</td>\n",
       "      <td>122.833000</td>\n",
       "      <td>0.394079</td>\n",
       "    </tr>\n",
       "    <tr>\n",
       "      <th>75%</th>\n",
       "      <td>87.000000</td>\n",
       "      <td>14402.000000</td>\n",
       "      <td>39.203200</td>\n",
       "      <td>39.053300</td>\n",
       "      <td>30.722700</td>\n",
       "      <td>1.000000</td>\n",
       "      <td>132.400000</td>\n",
       "      <td>0.511803</td>\n",
       "    </tr>\n",
       "    <tr>\n",
       "      <th>max</th>\n",
       "      <td>117.000000</td>\n",
       "      <td>16517.000000</td>\n",
       "      <td>46.666900</td>\n",
       "      <td>41.712200</td>\n",
       "      <td>34.601800</td>\n",
       "      <td>3.000000</td>\n",
       "      <td>161.714000</td>\n",
       "      <td>0.671654</td>\n",
       "    </tr>\n",
       "  </tbody>\n",
       "</table>\n",
       "</div>"
      ],
      "text/plain": [
       "       MainVertexSeq      VertexID           X           Y           Z  \\\n",
       "count     613.000000    613.000000  613.000000  613.000000  613.000000   \n",
       "mean       57.057096  12029.523654   28.529352   32.181743   23.058631   \n",
       "std        34.338068   2784.914748   10.922083    6.817273    7.868748   \n",
       "min         0.000000   7928.000000   10.662000   20.553300   10.070100   \n",
       "25%        27.000000   9263.000000   17.670700   25.330600   15.281500   \n",
       "50%        57.000000  11798.000000   28.897200   32.793800   23.073600   \n",
       "75%        87.000000  14402.000000   39.203200   39.053300   30.722700   \n",
       "max       117.000000  16517.000000   46.666900   41.712200   34.601800   \n",
       "\n",
       "       VertexDepth  MeshScalar       theta  \n",
       "count   613.000000  613.000000  613.000000  \n",
       "mean      1.137031  119.537921    0.363743  \n",
       "std       0.505669   22.865332    0.177723  \n",
       "min       0.000000    0.000000    0.000000  \n",
       "25%       1.000000  112.143000    0.214769  \n",
       "50%       1.000000  122.833000    0.394079  \n",
       "75%       1.000000  132.400000    0.511803  \n",
       "max       3.000000  161.714000    0.671654  "
      ]
     },
     "execution_count": 23,
     "metadata": {},
     "output_type": "execute_result"
    }
   ],
   "source": [
    "df_data_with_thetas_sorted_nodupes.describe()"
   ]
  },
  {
   "cell_type": "code",
   "execution_count": null,
   "metadata": {
    "collapsed": true
   },
   "outputs": [],
   "source": []
  },
  {
   "cell_type": "code",
   "execution_count": null,
   "metadata": {
    "collapsed": true
   },
   "outputs": [],
   "source": []
  },
  {
   "cell_type": "code",
   "execution_count": null,
   "metadata": {
    "collapsed": true
   },
   "outputs": [],
   "source": []
  },
  {
   "cell_type": "code",
   "execution_count": null,
   "metadata": {
    "collapsed": true
   },
   "outputs": [],
   "source": []
  },
  {
   "cell_type": "code",
   "execution_count": null,
   "metadata": {
    "collapsed": true
   },
   "outputs": [],
   "source": []
  },
  {
   "cell_type": "code",
   "execution_count": null,
   "metadata": {
    "collapsed": true
   },
   "outputs": [],
   "source": []
  }
 ],
 "metadata": {
  "anaconda-cloud": {},
  "kernelspec": {
   "display_name": "Python 3",
   "language": "python",
   "name": "python3"
  },
  "language_info": {
   "codemirror_mode": {
    "name": "ipython",
    "version": 3
   },
   "file_extension": ".py",
   "mimetype": "text/x-python",
   "name": "python",
   "nbconvert_exporter": "python",
   "pygments_lexer": "ipython3",
   "version": "3.5.4"
  }
 },
 "nbformat": 4,
 "nbformat_minor": 1
}
